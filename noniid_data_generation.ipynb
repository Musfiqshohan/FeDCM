{
 "cells": [
  {
   "cell_type": "code",
   "id": "initial_id",
   "metadata": {
    "collapsed": true,
    "ExecuteTime": {
     "end_time": "2025-04-13T03:26:22.116190Z",
     "start_time": "2025-04-13T03:26:22.112522Z"
    }
   },
   "source": [
    "import copy\n",
    "from cProfile import label\n",
    "\n",
    "import torch\n",
    "import torch.nn as nn\n",
    "import torch.optim as optim\n",
    "import torch.nn.functional as F\n",
    "import numpy as np\n",
    "from torch.utils.data import TensorDataset, DataLoader\n"
   ],
   "outputs": [],
   "execution_count": 51
  },
  {
   "metadata": {
    "ExecuteTime": {
     "end_time": "2025-04-13T03:26:22.394803Z",
     "start_time": "2025-04-13T03:26:22.384085Z"
    }
   },
   "cell_type": "code",
   "source": [
    "\n",
    "%matplotlib inline\n",
    "\n",
    "from pylab import *\n",
    "import matplotlib.pyplot as plt\n",
    "import os\n",
    "import pyAgrum as gum\n",
    "import pickle\n",
    "\n",
    "import pyAgrum.lib.ipython as gnb\n",
    "\n",
    "\n",
    "\n",
    "print('imported')\n",
    "\n",
    "bn=gum.BayesNet('Causal Graph')\n",
    "\n",
    "\n",
    "# high_dim=128\n",
    "high_dim=2\n",
    "\n",
    "\n",
    "all_nodes=['U1', 'U2', 'Z', 'W', 'X', 'Y']\n",
    "\n",
    "\n",
    "dim={\n",
    "    'U1':3,\n",
    "    'U2':3,\n",
    "    'Z':2,\n",
    "    'W':2,\n",
    "    'X': high_dim,\n",
    "    'Y':2\n",
    "}\n",
    "\n",
    "U1 = bn.add('U1', dim['U1'])\n",
    "U2 = bn.add('U2', dim['U2'])\n",
    "Z  = bn.add('Z',  dim['Z'])\n",
    "W  = bn.add('W',  dim['W'])\n",
    "X  = bn.add('X',  dim['X'])\n",
    "Y  = bn.add('Y',  dim['Y'])\n",
    "\n",
    "\n",
    "\n",
    "print (bn)\n",
    "\n",
    "\n",
    "bn.addArc(U1,Z)\n",
    "bn.addArc(U1,Y)\n",
    "\n",
    "bn.addArc(U2,Z)\n",
    "bn.addArc(U2,W)\n",
    "# \n",
    "bn.addArc(Z,X)\n",
    "bn.addArc(Z,W)\n",
    "bn.addArc(W,Y)\n",
    "bn.addArc(X,Y)\n",
    "\n",
    "\n",
    "\n",
    "\n",
    "# gnb.sideBySide(gnb.getBN(bn))"
   ],
   "id": "cef6a8016bc63b1e",
   "outputs": [
    {
     "name": "stdout",
     "output_type": "stream",
     "text": [
      "imported\n",
      "BN{nodes: 6, arcs: 0, domainSize: 144, dim: 8, mem: 112o}\n"
     ]
    }
   ],
   "execution_count": 52
  },
  {
   "metadata": {
    "ExecuteTime": {
     "end_time": "2025-04-13T03:26:22.662049Z",
     "start_time": "2025-04-13T03:26:22.598780Z"
    }
   },
   "cell_type": "code",
   "source": "gnb.showBN(bn)  ",
   "id": "3817c42c8410efa7",
   "outputs": [
    {
     "data": {
      "image/png": "[encoded data removed]",
      "text/plain": [
       "<IPython.core.display.Image object>"
      ]
     },
     "metadata": {},
     "output_type": "display_data"
    }
   ],
   "execution_count": 53
  },
  {
   "metadata": {
    "ExecuteTime": {
     "end_time": "2025-04-13T03:26:23.350399Z",
     "start_time": "2025-04-13T03:26:23.346133Z"
    }
   },
   "cell_type": "code",
   "source": "bn.names()",
   "id": "da72cd3fa574e631",
   "outputs": [
    {
     "data": {
      "text/plain": [
       "{'U1', 'U2', 'W', 'X', 'Y', 'Z'}"
      ]
     },
     "execution_count": 54,
     "metadata": {},
     "output_type": "execute_result"
    }
   ],
   "execution_count": 54
  },
  {
   "metadata": {
    "ExecuteTime": {
     "end_time": "2025-04-13T03:26:23.743399Z",
     "start_time": "2025-04-13T03:26:23.740002Z"
    }
   },
   "cell_type": "code",
   "source": "print(bn.cpt('W').shape)",
   "id": "328e3662e407e6fb",
   "outputs": [
    {
     "name": "stdout",
     "output_type": "stream",
     "text": [
      "(2, 3, 2)\n"
     ]
    }
   ],
   "execution_count": 55
  },
  {
   "metadata": {},
   "cell_type": "markdown",
   "source": "# Generate From dirilichlet distribution",
   "id": "18cdb482947d61b2"
  },
  {
   "metadata": {},
   "cell_type": "markdown",
   "source": "# True intervention",
   "id": "b142bb3a3dae0d02"
  },
  {
   "metadata": {
    "ExecuteTime": {
     "end_time": "2025-04-13T03:26:25.246923Z",
     "start_time": "2025-04-13T03:26:25.242241Z"
    }
   },
   "cell_type": "code",
   "source": [
    "\n",
    "\n",
    "\n",
    "# intervened graph         \n",
    "def get_bn(bn2, intervened):\n",
    "    for var in intervened:\n",
    "        for parent in bn2.cpt(var).var_names:\n",
    "            if parent != var:\n",
    "                bn2.eraseArc(*(parent, var))\n",
    "\n",
    "        \n",
    "        lst = [0 for i in range(dim[var])]\n",
    "        lst[intervened[var]] = 1\n",
    "        bn2.cpt(var).fillWith(lst)\n",
    "\n",
    "    return bn2\n",
    "\n",
    "\n"
   ],
   "id": "3735567835d2d767",
   "outputs": [],
   "execution_count": 56
  },
  {
   "metadata": {
    "ExecuteTime": {
     "end_time": "2025-04-13T03:26:25.612717Z",
     "start_time": "2025-04-13T03:26:25.607994Z"
    }
   },
   "cell_type": "code",
   "source": [
    "# Ground True intervention     \n",
    "\n",
    "def get_true_causal_effect(bn, treatment='X', outcome='Y'):\n",
    "\n",
    "    true_intv=[]\n",
    "    for x in range(dim[treatment]):\n",
    "        intervened={treatment:x}\n",
    "        bn_intv=gum.BayesNet(bn)\n",
    "        bn_intv= get_bn(bn_intv, intervened)\n",
    "        \n",
    "        all_nodes=bn_intv.names()\n",
    "        ie = gum.LazyPropagation(bn_intv)\n",
    "        var_set = set(all_nodes)\n",
    "        ie.addJointTarget(var_set)\n",
    "        ie.makeInference()\n",
    "        \n",
    "        pY_dox= ie.evidenceJointImpact([outcome], [])\n",
    "        \n",
    "        true_intv+=  list(pY_dox.toarray())\n",
    "        # gnb.flow.row(pY_dox, captions=[f'P({outcome}|do{intervened})'])\n",
    "    \n",
    "    return true_intv\n"
   ],
   "id": "3be23bb81219beb4",
   "outputs": [],
   "execution_count": 57
  },
  {
   "metadata": {
    "ExecuteTime": {
     "end_time": "2025-04-13T03:26:26.060155Z",
     "start_time": "2025-04-13T03:26:26.056420Z"
    }
   },
   "cell_type": "code",
   "source": [
    "\n",
    "def powerset(s):\n",
    "    \n",
    "    lst=[]\n",
    "    x = len(s)\n",
    "    for i in range(1 << x):\n",
    "        lst.append([s[j] for j in range(x) if (i & (1 << j))])\n",
    "\n",
    "    return lst\n",
    "    \n",
    "# all_adj\n",
    "# powerset(all_adj)"
   ],
   "id": "ace993e7690396ee",
   "outputs": [],
   "execution_count": 58
  },
  {
   "metadata": {
    "ExecuteTime": {
     "end_time": "2025-04-13T03:44:58.344910Z",
     "start_time": "2025-04-13T03:44:58.138572Z"
    }
   },
   "cell_type": "code",
   "source": [
    "import math\n",
    "import numpy as np\n",
    "from scipy.special import xlogy\n",
    "import scipy.stats as stats\n",
    "import matplotlib.pyplot as plt\n",
    "\n",
    "## set seed\n",
    "# np.random.seed(0)\n",
    "\n",
    "\n",
    "while(True):\n",
    "\n",
    "\n",
    "    ## Gernerate distributions according to the graphical model\n",
    "    dir_parm= 0.5 # initially 0.1\n",
    "    \n",
    "    \n",
    "    pu1 = stats.dirichlet.rvs([dir_parm]* dim['U1'], size=1)\n",
    "    pu2 = stats.dirichlet.rvs([dir_parm]* dim['U2'], size=1)\n",
    "    \n",
    "    pz = stats.dirichlet.rvs([dir_parm]*dim['Z'], size=dim['U1']*dim['U2'])\n",
    "    \n",
    "    pw = stats.dirichlet.rvs([dir_parm]*dim['W'], size=dim['U2']*dim['Z'])\n",
    "    \n",
    "    px = stats.dirichlet.rvs([dir_parm] * dim['X'], size=dim['Z'])\n",
    "    py = stats.dirichlet.rvs([dir_parm] * dim['Y'], size=dim['U1']*dim['W']* dim['X'])\n",
    "    \n",
    "    \n",
    "    pu1= np.squeeze(pu1, axis=None)\n",
    "    pu2= np.squeeze(pu2, axis=None)\n",
    "    bn.cpt('U1').fillWith(pu1) \n",
    "    bn.cpt('U2').fillWith(pu2) \n",
    "    \n",
    "    \n",
    "    bn.cpt('Z')[:]= pz.reshape((dim['U1'], dim['U2'], dim['Z']))\n",
    "    bn.cpt('Z')\n",
    "    \n",
    "    bn.cpt('W')[:]= pw.reshape((dim['Z'], dim['U2'],  dim['W']))\n",
    "    bn.cpt('W')\n",
    "    \n",
    "    \n",
    "    bn.cpt('X')[:]= px.reshape((dim['Z'], dim['X']))\n",
    "    bn.cpt('X')\n",
    "    \n",
    "    \n",
    "    \n",
    "    bn.cpt('Y')[:]= py.reshape(( dim['X'],  dim['W'], dim['U1'], dim['Y'] )) # if dme\n",
    "    bn.cpt('Y')\n",
    "    \n",
    "    \n",
    "    # Joint distribution\n",
    "    ie=gum.LazyPropagation(bn)\n",
    "    ie.makeInference()\n",
    "    \n",
    "    \n",
    "    py_z= ie.evidenceJointImpact(['Y'], ['Z'])\n",
    "    # gnb.flow.row(ie.evidenceJointImpact(['Y'], ['Z']), captions=[f'P(y|z)'])\n",
    "    \n",
    "    \n",
    "    \n",
    "    # True causal effect\n",
    "    true_intv = get_true_causal_effect(bn, treatment='Z', outcome='Y')\n",
    "    \n",
    "    \n",
    "    \n",
    "    \n",
    "    sum=0\n",
    "    for iter, value in enumerate(true_intv):\n",
    "        sum+=  abs(np.array(py_z.toarray()).reshape(1,-1)[0][iter] - true_intv[iter])\n",
    "    \n",
    "    print(sum)\n",
    "    \n",
    "    if sum/2 >0.40:\n",
    "        break"
   ],
   "id": "8df1f5e3a2d37cb9",
   "outputs": [
    {
     "name": "stdout",
     "output_type": "stream",
     "text": [
      "0.15640708195339614\n",
      "0.025091447845944026\n",
      "0.18957834077587604\n",
      "0.1680198409960392\n",
      "0.13969333359512337\n",
      "0.032938045570918534\n",
      "0.04488117801338567\n",
      "0.02966211536522312\n",
      "0.07054897550783051\n",
      "0.35537051157255445\n",
      "0.34645292276501305\n",
      "0.24317085352533496\n",
      "0.05942606532122191\n",
      "0.12701300147782335\n",
      "0.10153763117222112\n",
      "0.08445569751478793\n",
      "0.2108401393191394\n",
      "0.18067354490788254\n",
      "0.17848255965643706\n",
      "0.15420314812958447\n",
      "0.44997196371963427\n",
      "0.032389873205139266\n",
      "0.2276918015366841\n",
      "0.12680034310704572\n",
      "0.06299263678900366\n",
      "0.290053935322681\n",
      "0.007839558550325226\n",
      "0.02365649988322155\n",
      "0.1862013765586656\n",
      "0.3016438172957149\n",
      "0.09021503350509341\n",
      "0.16188614948420488\n",
      "0.07426720997670044\n",
      "0.3838764173493885\n",
      "0.047703184349644906\n",
      "0.2950037744289071\n",
      "0.6944949160712246\n",
      "0.5624389419305347\n",
      "0.05472171827668926\n",
      "0.04195567258473758\n",
      "0.1346870168692041\n",
      "0.1252234427637205\n",
      "0.3964275033507991\n",
      "0.03555599951309113\n",
      "0.30083737401731003\n",
      "0.10905321488870912\n",
      "0.1562608129771606\n",
      "0.18165781935215947\n",
      "0.20097735340214193\n",
      "0.4620957719145912\n",
      "0.09974812588896742\n",
      "0.06328322569715772\n",
      "0.4098728965057342\n",
      "0.041936798963115585\n",
      "0.2392096531010967\n",
      "0.11867861247627856\n",
      "0.07800152775293684\n",
      "0.1728947010076956\n",
      "0.04580684361638615\n",
      "0.19509072269813588\n",
      "0.14759312397479096\n",
      "0.07262654357192522\n",
      "0.1741679138098115\n",
      "0.28529293777019427\n",
      "0.648045258872743\n",
      "0.44982705441581816\n",
      "0.153028128004934\n",
      "0.141333909891445\n",
      "0.020484710323938282\n",
      "0.26993144395813023\n",
      "0.011572544165002085\n",
      "0.044248743039966176\n",
      "0.054780312704188205\n",
      "0.1892593078538239\n",
      "0.3575151692411304\n",
      "0.0014844969366252236\n",
      "0.3944776792834629\n",
      "0.24157041452127415\n",
      "0.34739166969221624\n",
      "0.11128506804530647\n",
      "0.22400970100082507\n",
      "0.42160878052283124\n",
      "0.14592088722537222\n",
      "0.07620072592959204\n",
      "0.17977154661726524\n",
      "0.005898149657673657\n",
      "0.09916736550538235\n",
      "0.06392827996230221\n",
      "0.8232529047338779\n"
     ]
    }
   ],
   "execution_count": 97
  },
  {
   "metadata": {
    "ExecuteTime": {
     "end_time": "2025-04-13T03:44:59.875482Z",
     "start_time": "2025-04-13T03:44:59.868298Z"
    }
   },
   "cell_type": "code",
   "source": [
    "ie=gum.LazyPropagation(bn)\n",
    "ie.makeInference()\n",
    "py_z= ie.evidenceJointImpact(['Y'], ['Z'])\n",
    "print(py_z)\n",
    "\n",
    "true_intv = get_true_causal_effect(bn, treatment='Z', outcome='Y')\n",
    "print(true_intv)"
   ],
   "id": "1c788c17a65bc6c",
   "outputs": [
    {
     "name": "stdout",
     "output_type": "stream",
     "text": [
      "\n",
      "      ||  Y                |\n",
      "Z     ||0        |1        |\n",
      "------||---------|---------|\n",
      "0     || 0.1378  | 0.8622  |\n",
      "1     || 0.8464  | 0.1536  |\n",
      "\n",
      "[0.5166492441926079, 0.48335075580739206, 0.8136853579458281, 0.18631464205417186]\n"
     ]
    }
   ],
   "execution_count": 98
  },
  {
   "metadata": {
    "ExecuteTime": {
     "end_time": "2025-04-13T03:45:07.208447Z",
     "start_time": "2025-04-13T03:45:07.203685Z"
    }
   },
   "cell_type": "code",
   "source": "bn.cpt('X')",
   "id": "320db944be4e131a",
   "outputs": [
    {
     "data": {
      "text/plain": [
       "(pyAgrum.Potential<double>@0x5635836ec6d0) \n",
       "      ||  X                |\n",
       "Z     ||0        |1        |\n",
       "------||---------|---------|\n",
       "0     || 0.2401  | 0.7599  |\n",
       "1     || 0.8135  | 0.1865  |"
      ],
      "text/html": [
       "<table style=\"border:1px solid black;border-collapse: collapse;\">\n",
       "<tr><th colspan='1'></th>\n",
       "      <th colspan='2' style='border:1px solid black;color:black;background-color:#808080;'><center>X</center>\n",
       "      </th></tr>\n",
       "<tr><th style='border:1px solid black;color:black;background-color:#808080'><center>Z</center></th><th style='border:1px solid black;border-bottom-style: double;color:black;background-color:#BBBBBB'>\n",
       "      <center>0</center></th><th style='border:1px solid black;border-bottom-style: double;color:black;background-color:#BBBBBB'>\n",
       "      <center>1</center></th></tr>\n",
       "<tr><th style='border:1px solid black;color:black;background-color:#BBBBBB'><center>0</center></th><td style='color:black;background-color:#e09d64;text-align:right;padding: 3px;'>0.2401</td><td style='color:black;background-color:#9de064;text-align:right;padding: 3px;'>0.7599</td></tr>\n",
       "<tr><th style='border:1px solid black;color:black;background-color:#BBBBBB'><center>1</center></th><td style='color:black;background-color:#96e764;text-align:right;padding: 3px;'>0.8135</td><td style='color:black;background-color:#e79664;text-align:right;padding: 3px;'>0.1865</td></tr>\n",
       "</table>"
      ]
     },
     "execution_count": 99,
     "metadata": {},
     "output_type": "execute_result"
    }
   ],
   "execution_count": 99
  },
  {
   "metadata": {
    "ExecuteTime": {
     "end_time": "2025-04-13T03:45:10.385593Z",
     "start_time": "2025-04-13T03:45:10.379781Z"
    }
   },
   "cell_type": "code",
   "source": [
    "import pickle\n",
    "\n",
    "bnid=high_dim\n",
    "\n",
    "save= f'./bn_{bnid}.pickle'\n",
    "with open(save, 'wb') as handle:\n",
    "    pickle.dump(bn, handle, protocol=pickle.HIGHEST_PROTOCOL)\n",
    "save"
   ],
   "id": "99cb6860ae783a48",
   "outputs": [
    {
     "data": {
      "text/plain": [
       "'./bn_2.pickle'"
      ]
     },
     "execution_count": 100,
     "metadata": {},
     "output_type": "execute_result"
    }
   ],
   "execution_count": 100
  },
  {
   "metadata": {
    "ExecuteTime": {
     "end_time": "2025-04-13T03:45:11.942934Z",
     "start_time": "2025-04-13T03:45:11.880807Z"
    }
   },
   "cell_type": "code",
   "source": "bn",
   "id": "82751d60fc602a73",
   "outputs": [
    {
     "data": {
      "text/plain": [
       "(pyAgrum.BayesNet<double>@0x5635841542b0) BN{nodes: 6, arcs: 8, domainSize: 144, dim: 33, mem: 512o}"
      ],
      "text/html": [
       "<svg xmlns=\"http://www.w3.org/2000/svg\" xmlns:xlink=\"http://www.w3.org/1999/xlink\" width=\"167pt\" height=\"260pt\" viewBox=\"0.00 0.00 167.00 260.00\">\n",
       "<g id=\"graph0\" class=\"graph\" transform=\"scale(1 1) rotate(0) translate(4 256)\">\n",
       "<title>G</title>\n",
       "<!-- U2 -->\n",
       "<g id=\"node1\" class=\"node\">\n",
       "<title>U2</title>\n",
       "<g id=\"a_node1\"><a xlink:title=\"(1) U2\">\n",
       "<ellipse fill=\"#404040\" stroke=\"#4a4a4a\" cx=\"51\" cy=\"-234\" rx=\"27\" ry=\"18\"/>\n",
       "<text text-anchor=\"middle\" x=\"51\" y=\"-230.3\" font-family=\"Times,serif\" font-size=\"14.00\" fill=\"white\">U2</text>\n",
       "</a>\n",
       "</g>\n",
       "</g>\n",
       "<!-- Z -->\n",
       "<g id=\"node4\" class=\"node\">\n",
       "<title>Z</title>\n",
       "<g id=\"a_node4\"><a xlink:title=\"(2) Z\">\n",
       "<ellipse fill=\"#404040\" stroke=\"#4a4a4a\" cx=\"95\" cy=\"-162\" rx=\"27\" ry=\"18\"/>\n",
       "<text text-anchor=\"middle\" x=\"95\" y=\"-158.3\" font-family=\"Times,serif\" font-size=\"14.00\" fill=\"white\">Z</text>\n",
       "</a>\n",
       "</g>\n",
       "</g>\n",
       "<!-- U2&#45;&gt;Z -->\n",
       "<g id=\"edge2\" class=\"edge\">\n",
       "<title>U2-&gt;Z</title>\n",
       "<g id=\"a_edge2\"><a xlink:title=\"1 → 2\">\n",
       "<path fill=\"none\" stroke=\"#4a4a4a\" d=\"M60.98,-217.12C66.5,-208.34 73.46,-197.26 79.65,-187.42\"/>\n",
       "<polygon fill=\"#4a4a4a\" stroke=\"#4a4a4a\" points=\"82.7,-189.15 85.06,-178.82 76.77,-185.42 82.7,-189.15\"/>\n",
       "</a>\n",
       "</g>\n",
       "</g>\n",
       "<!-- W -->\n",
       "<g id=\"node5\" class=\"node\">\n",
       "<title>W</title>\n",
       "<g id=\"a_node5\"><a xlink:title=\"(3) W\">\n",
       "<ellipse fill=\"#404040\" stroke=\"#4a4a4a\" cx=\"27\" cy=\"-90\" rx=\"27\" ry=\"18\"/>\n",
       "<text text-anchor=\"middle\" x=\"27\" y=\"-86.3\" font-family=\"Times,serif\" font-size=\"14.00\" fill=\"white\">W</text>\n",
       "</a>\n",
       "</g>\n",
       "</g>\n",
       "<!-- U2&#45;&gt;W -->\n",
       "<g id=\"edge7\" class=\"edge\">\n",
       "<title>U2-&gt;W</title>\n",
       "<g id=\"a_edge7\"><a xlink:title=\"1 → 3\">\n",
       "<path fill=\"none\" stroke=\"#4a4a4a\" d=\"M48.11,-215.87C44.01,-191.67 36.5,-147.21 31.63,-118.39\"/>\n",
       "<polygon fill=\"#4a4a4a\" stroke=\"#4a4a4a\" points=\"35.02,-117.47 29.91,-108.19 28.12,-118.63 35.02,-117.47\"/>\n",
       "</a>\n",
       "</g>\n",
       "</g>\n",
       "<!-- Y -->\n",
       "<g id=\"node2\" class=\"node\">\n",
       "<title>Y</title>\n",
       "<g id=\"a_node2\"><a xlink:title=\"(5) Y\">\n",
       "<ellipse fill=\"#404040\" stroke=\"#4a4a4a\" cx=\"99\" cy=\"-18\" rx=\"27\" ry=\"18\"/>\n",
       "<text text-anchor=\"middle\" x=\"99\" y=\"-14.3\" font-family=\"Times,serif\" font-size=\"14.00\" fill=\"white\">Y</text>\n",
       "</a>\n",
       "</g>\n",
       "</g>\n",
       "<!-- U1 -->\n",
       "<g id=\"node3\" class=\"node\">\n",
       "<title>U1</title>\n",
       "<g id=\"a_node3\"><a xlink:title=\"(0) U1\">\n",
       "<ellipse fill=\"#404040\" stroke=\"#4a4a4a\" cx=\"132\" cy=\"-234\" rx=\"27\" ry=\"18\"/>\n",
       "<text text-anchor=\"middle\" x=\"132\" y=\"-230.3\" font-family=\"Times,serif\" font-size=\"14.00\" fill=\"white\">U1</text>\n",
       "</a>\n",
       "</g>\n",
       "</g>\n",
       "<!-- U1&#45;&gt;Y -->\n",
       "<g id=\"edge6\" class=\"edge\">\n",
       "<title>U1-&gt;Y</title>\n",
       "<g id=\"a_edge6\"><a xlink:title=\"0 → 5\">\n",
       "<path fill=\"none\" stroke=\"#4a4a4a\" d=\"M135.7,-216.07C141.49,-186.19 150.53,-122.5 135,-72 131.71,-61.31 125.46,-50.85 119.07,-42.08\"/>\n",
       "<polygon fill=\"#4a4a4a\" stroke=\"#4a4a4a\" points=\"121.65,-39.69 112.75,-33.93 116.12,-43.98 121.65,-39.69\"/>\n",
       "</a>\n",
       "</g>\n",
       "</g>\n",
       "<!-- U1&#45;&gt;Z -->\n",
       "<g id=\"edge5\" class=\"edge\">\n",
       "<title>U1-&gt;Z</title>\n",
       "<g id=\"a_edge5\"><a xlink:title=\"0 → 2\">\n",
       "<path fill=\"none\" stroke=\"#4a4a4a\" d=\"M123.42,-216.76C118.94,-208.28 113.35,-197.71 108.32,-188.2\"/>\n",
       "<polygon fill=\"#4a4a4a\" stroke=\"#4a4a4a\" points=\"111.3,-186.35 103.54,-179.15 105.11,-189.62 111.3,-186.35\"/>\n",
       "</a>\n",
       "</g>\n",
       "</g>\n",
       "<!-- Z&#45;&gt;W -->\n",
       "<g id=\"edge3\" class=\"edge\">\n",
       "<title>Z-&gt;W</title>\n",
       "<g id=\"a_edge3\"><a xlink:title=\"2 → 3\">\n",
       "<path fill=\"none\" stroke=\"#4a4a4a\" d=\"M80.91,-146.5C71.43,-136.73 58.76,-123.69 48.08,-112.7\"/>\n",
       "<polygon fill=\"#4a4a4a\" stroke=\"#4a4a4a\" points=\"50.55,-110.22 41.07,-105.49 45.53,-115.1 50.55,-110.22\"/>\n",
       "</a>\n",
       "</g>\n",
       "</g>\n",
       "<!-- X -->\n",
       "<g id=\"node6\" class=\"node\">\n",
       "<title>X</title>\n",
       "<g id=\"a_node6\"><a xlink:title=\"(4) X\">\n",
       "<ellipse fill=\"#404040\" stroke=\"#4a4a4a\" cx=\"99\" cy=\"-90\" rx=\"27\" ry=\"18\"/>\n",
       "<text text-anchor=\"middle\" x=\"99\" y=\"-86.3\" font-family=\"Times,serif\" font-size=\"14.00\" fill=\"white\">X</text>\n",
       "</a>\n",
       "</g>\n",
       "</g>\n",
       "<!-- Z&#45;&gt;X -->\n",
       "<g id=\"edge1\" class=\"edge\">\n",
       "<title>Z-&gt;X</title>\n",
       "<g id=\"a_edge1\"><a xlink:title=\"2 → 4\">\n",
       "<path fill=\"none\" stroke=\"#4a4a4a\" d=\"M95.99,-143.7C96.43,-135.98 96.96,-126.71 97.45,-118.11\"/>\n",
       "<polygon fill=\"#4a4a4a\" stroke=\"#4a4a4a\" points=\"100.95,-118.29 98.02,-108.1 93.96,-117.89 100.95,-118.29\"/>\n",
       "</a>\n",
       "</g>\n",
       "</g>\n",
       "<!-- W&#45;&gt;Y -->\n",
       "<g id=\"edge8\" class=\"edge\">\n",
       "<title>W-&gt;Y</title>\n",
       "<g id=\"a_edge8\"><a xlink:title=\"3 → 5\">\n",
       "<path fill=\"none\" stroke=\"#4a4a4a\" d=\"M41.57,-74.83C51.75,-64.94 65.52,-51.55 77.03,-40.36\"/>\n",
       "<polygon fill=\"#4a4a4a\" stroke=\"#4a4a4a\" points=\"79.47,-42.87 84.2,-33.38 74.59,-37.85 79.47,-42.87\"/>\n",
       "</a>\n",
       "</g>\n",
       "</g>\n",
       "<!-- X&#45;&gt;Y -->\n",
       "<g id=\"edge4\" class=\"edge\">\n",
       "<title>X-&gt;Y</title>\n",
       "<g id=\"a_edge4\"><a xlink:title=\"4 → 5\">\n",
       "<path fill=\"none\" stroke=\"#4a4a4a\" d=\"M99,-71.7C99,-63.98 99,-54.71 99,-46.11\"/>\n",
       "<polygon fill=\"#4a4a4a\" stroke=\"#4a4a4a\" points=\"102.5,-46.1 99,-36.1 95.5,-46.1 102.5,-46.1\"/>\n",
       "</a>\n",
       "</g>\n",
       "</g>\n",
       "</g>\n",
       "</svg>"
      ]
     },
     "execution_count": 101,
     "metadata": {},
     "output_type": "execute_result"
    }
   ],
   "execution_count": 101
  },
  {
   "metadata": {
    "ExecuteTime": {
     "end_time": "2025-04-13T03:45:20.951507Z",
     "start_time": "2025-04-13T03:45:20.946234Z"
    }
   },
   "cell_type": "code",
   "source": [
    "import pickle\n",
    "# bnid='fedsynthetic'     #  when x is 20 dimensional.\n",
    "\n",
    "# bnid='x20'     #  when x is 20 dimensional.\n",
    "bnid=high_dim     #  when x is 64 dimensional.\n",
    "with open(f'./bn_{bnid}.pickle', 'rb') as handle:\n",
    "    bn = pickle.load(handle)\n",
    "    \n",
    "# bn.cpt('Y')\n",
    "bnid"
   ],
   "id": "adb1d3896da3b13",
   "outputs": [
    {
     "data": {
      "text/plain": [
       "2"
      ]
     },
     "execution_count": 102,
     "metadata": {},
     "output_type": "execute_result"
    }
   ],
   "execution_count": 102
  },
  {
   "metadata": {
    "ExecuteTime": {
     "end_time": "2025-04-13T03:45:22.936157Z",
     "start_time": "2025-04-13T03:45:22.690355Z"
    }
   },
   "cell_type": "code",
   "source": [
    "nC = 5 # number of clients\n",
    "\n",
    "samples_per_client= 1000\n",
    "\n",
    "g=gum.BNDatabaseGenerator(bn)\n",
    "N= (nC)*samples_per_client\n",
    "g.drawSamples(N,{})\n",
    "main_dataset= g.to_pandas().astype(int)\n",
    "main_dataset"
   ],
   "id": "e71119933fd72243",
   "outputs": [
    {
     "data": {
      "text/plain": [
       "      U1  U2  Z  W  X  Y\n",
       "0      1   0  1  0  1  1\n",
       "1      1   0  1  0  0  0\n",
       "2      1   0  1  0  0  0\n",
       "3      1   0  1  0  1  0\n",
       "4      1   0  1  0  0  0\n",
       "...   ..  .. .. .. .. ..\n",
       "4995   0   0  0  0  0  1\n",
       "4996   1   0  1  0  0  0\n",
       "4997   1   0  1  0  1  1\n",
       "4998   1   0  1  0  0  0\n",
       "4999   1   2  0  1  1  1\n",
       "\n",
       "[5000 rows x 6 columns]"
      ],
      "text/html": [
       "<div>\n",
       "<style scoped>\n",
       "    .dataframe tbody tr th:only-of-type {\n",
       "        vertical-align: middle;\n",
       "    }\n",
       "\n",
       "    .dataframe tbody tr th {\n",
       "        vertical-align: top;\n",
       "    }\n",
       "\n",
       "    .dataframe thead th {\n",
       "        text-align: right;\n",
       "    }\n",
       "</style>\n",
       "<table border=\"1\" class=\"dataframe\">\n",
       "  <thead>\n",
       "    <tr style=\"text-align: right;\">\n",
       "      <th></th>\n",
       "      <th>U1</th>\n",
       "      <th>U2</th>\n",
       "      <th>Z</th>\n",
       "      <th>W</th>\n",
       "      <th>X</th>\n",
       "      <th>Y</th>\n",
       "    </tr>\n",
       "  </thead>\n",
       "  <tbody>\n",
       "    <tr>\n",
       "      <th>0</th>\n",
       "      <td>1</td>\n",
       "      <td>0</td>\n",
       "      <td>1</td>\n",
       "      <td>0</td>\n",
       "      <td>1</td>\n",
       "      <td>1</td>\n",
       "    </tr>\n",
       "    <tr>\n",
       "      <th>1</th>\n",
       "      <td>1</td>\n",
       "      <td>0</td>\n",
       "      <td>1</td>\n",
       "      <td>0</td>\n",
       "      <td>0</td>\n",
       "      <td>0</td>\n",
       "    </tr>\n",
       "    <tr>\n",
       "      <th>2</th>\n",
       "      <td>1</td>\n",
       "      <td>0</td>\n",
       "      <td>1</td>\n",
       "      <td>0</td>\n",
       "      <td>0</td>\n",
       "      <td>0</td>\n",
       "    </tr>\n",
       "    <tr>\n",
       "      <th>3</th>\n",
       "      <td>1</td>\n",
       "      <td>0</td>\n",
       "      <td>1</td>\n",
       "      <td>0</td>\n",
       "      <td>1</td>\n",
       "      <td>0</td>\n",
       "    </tr>\n",
       "    <tr>\n",
       "      <th>4</th>\n",
       "      <td>1</td>\n",
       "      <td>0</td>\n",
       "      <td>1</td>\n",
       "      <td>0</td>\n",
       "      <td>0</td>\n",
       "      <td>0</td>\n",
       "    </tr>\n",
       "    <tr>\n",
       "      <th>...</th>\n",
       "      <td>...</td>\n",
       "      <td>...</td>\n",
       "      <td>...</td>\n",
       "      <td>...</td>\n",
       "      <td>...</td>\n",
       "      <td>...</td>\n",
       "    </tr>\n",
       "    <tr>\n",
       "      <th>4995</th>\n",
       "      <td>0</td>\n",
       "      <td>0</td>\n",
       "      <td>0</td>\n",
       "      <td>0</td>\n",
       "      <td>0</td>\n",
       "      <td>1</td>\n",
       "    </tr>\n",
       "    <tr>\n",
       "      <th>4996</th>\n",
       "      <td>1</td>\n",
       "      <td>0</td>\n",
       "      <td>1</td>\n",
       "      <td>0</td>\n",
       "      <td>0</td>\n",
       "      <td>0</td>\n",
       "    </tr>\n",
       "    <tr>\n",
       "      <th>4997</th>\n",
       "      <td>1</td>\n",
       "      <td>0</td>\n",
       "      <td>1</td>\n",
       "      <td>0</td>\n",
       "      <td>1</td>\n",
       "      <td>1</td>\n",
       "    </tr>\n",
       "    <tr>\n",
       "      <th>4998</th>\n",
       "      <td>1</td>\n",
       "      <td>0</td>\n",
       "      <td>1</td>\n",
       "      <td>0</td>\n",
       "      <td>0</td>\n",
       "      <td>0</td>\n",
       "    </tr>\n",
       "    <tr>\n",
       "      <th>4999</th>\n",
       "      <td>1</td>\n",
       "      <td>2</td>\n",
       "      <td>0</td>\n",
       "      <td>1</td>\n",
       "      <td>1</td>\n",
       "      <td>1</td>\n",
       "    </tr>\n",
       "  </tbody>\n",
       "</table>\n",
       "<p>5000 rows × 6 columns</p>\n",
       "</div>"
      ]
     },
     "execution_count": 103,
     "metadata": {},
     "output_type": "execute_result"
    }
   ],
   "execution_count": 103
  },
  {
   "metadata": {
    "ExecuteTime": {
     "end_time": "2025-04-13T03:45:38.101720Z",
     "start_time": "2025-04-13T03:45:38.043278Z"
    }
   },
   "cell_type": "code",
   "source": [
    "del main_dataset['U1']\n",
    "del main_dataset['U2']\n",
    "main_dataset"
   ],
   "id": "8ea0ea71566ff9e8",
   "outputs": [
    {
     "ename": "KeyError",
     "evalue": "'U1'",
     "output_type": "error",
     "traceback": [
      "\u001B[0;31m---------------------------------------------------------------------------\u001B[0m",
      "\u001B[0;31mKeyError\u001B[0m                                  Traceback (most recent call last)",
      "File \u001B[0;32m/local/scratch/a/rahman89/PycharmProjects/common-env/venv/lib/python3.10/site-packages/pandas/core/indexes/base.py:3653\u001B[0m, in \u001B[0;36mIndex.get_loc\u001B[0;34m(self, key)\u001B[0m\n\u001B[1;32m   3652\u001B[0m \u001B[38;5;28;01mtry\u001B[39;00m:\n\u001B[0;32m-> 3653\u001B[0m     \u001B[38;5;28;01mreturn\u001B[39;00m \u001B[38;5;28;43mself\u001B[39;49m\u001B[38;5;241;43m.\u001B[39;49m\u001B[43m_engine\u001B[49m\u001B[38;5;241;43m.\u001B[39;49m\u001B[43mget_loc\u001B[49m\u001B[43m(\u001B[49m\u001B[43mcasted_key\u001B[49m\u001B[43m)\u001B[49m\n\u001B[1;32m   3654\u001B[0m \u001B[38;5;28;01mexcept\u001B[39;00m \u001B[38;5;167;01mKeyError\u001B[39;00m \u001B[38;5;28;01mas\u001B[39;00m err:\n",
      "File \u001B[0;32m/local/scratch/a/rahman89/PycharmProjects/common-env/venv/lib/python3.10/site-packages/pandas/_libs/index.pyx:147\u001B[0m, in \u001B[0;36mpandas._libs.index.IndexEngine.get_loc\u001B[0;34m()\u001B[0m\n",
      "File \u001B[0;32m/local/scratch/a/rahman89/PycharmProjects/common-env/venv/lib/python3.10/site-packages/pandas/_libs/index.pyx:176\u001B[0m, in \u001B[0;36mpandas._libs.index.IndexEngine.get_loc\u001B[0;34m()\u001B[0m\n",
      "File \u001B[0;32mpandas/_libs/hashtable_class_helper.pxi:7080\u001B[0m, in \u001B[0;36mpandas._libs.hashtable.PyObjectHashTable.get_item\u001B[0;34m()\u001B[0m\n",
      "File \u001B[0;32mpandas/_libs/hashtable_class_helper.pxi:7088\u001B[0m, in \u001B[0;36mpandas._libs.hashtable.PyObjectHashTable.get_item\u001B[0;34m()\u001B[0m\n",
      "\u001B[0;31mKeyError\u001B[0m: 'U1'",
      "\nThe above exception was the direct cause of the following exception:\n",
      "\u001B[0;31mKeyError\u001B[0m                                  Traceback (most recent call last)",
      "Cell \u001B[0;32mIn[106], line 1\u001B[0m\n\u001B[0;32m----> 1\u001B[0m \u001B[38;5;28;01mdel\u001B[39;00m main_dataset[\u001B[38;5;124m'\u001B[39m\u001B[38;5;124mU1\u001B[39m\u001B[38;5;124m'\u001B[39m]\n\u001B[1;32m      2\u001B[0m \u001B[38;5;28;01mdel\u001B[39;00m main_dataset[\u001B[38;5;124m'\u001B[39m\u001B[38;5;124mU2\u001B[39m\u001B[38;5;124m'\u001B[39m]\n\u001B[1;32m      3\u001B[0m main_dataset\n",
      "File \u001B[0;32m/local/scratch/a/rahman89/PycharmProjects/common-env/venv/lib/python3.10/site-packages/pandas/core/generic.py:4279\u001B[0m, in \u001B[0;36mNDFrame.__delitem__\u001B[0;34m(self, key)\u001B[0m\n\u001B[1;32m   4274\u001B[0m             deleted \u001B[38;5;241m=\u001B[39m \u001B[38;5;28;01mTrue\u001B[39;00m\n\u001B[1;32m   4275\u001B[0m \u001B[38;5;28;01mif\u001B[39;00m \u001B[38;5;129;01mnot\u001B[39;00m deleted:\n\u001B[1;32m   4276\u001B[0m     \u001B[38;5;66;03m# If the above loop ran and didn't delete anything because\u001B[39;00m\n\u001B[1;32m   4277\u001B[0m     \u001B[38;5;66;03m# there was no match, this call should raise the appropriate\u001B[39;00m\n\u001B[1;32m   4278\u001B[0m     \u001B[38;5;66;03m# exception:\u001B[39;00m\n\u001B[0;32m-> 4279\u001B[0m     loc \u001B[38;5;241m=\u001B[39m \u001B[38;5;28;43mself\u001B[39;49m\u001B[38;5;241;43m.\u001B[39;49m\u001B[43maxes\u001B[49m\u001B[43m[\u001B[49m\u001B[38;5;241;43m-\u001B[39;49m\u001B[38;5;241;43m1\u001B[39;49m\u001B[43m]\u001B[49m\u001B[38;5;241;43m.\u001B[39;49m\u001B[43mget_loc\u001B[49m\u001B[43m(\u001B[49m\u001B[43mkey\u001B[49m\u001B[43m)\u001B[49m\n\u001B[1;32m   4280\u001B[0m     \u001B[38;5;28mself\u001B[39m\u001B[38;5;241m.\u001B[39m_mgr \u001B[38;5;241m=\u001B[39m \u001B[38;5;28mself\u001B[39m\u001B[38;5;241m.\u001B[39m_mgr\u001B[38;5;241m.\u001B[39midelete(loc)\n\u001B[1;32m   4282\u001B[0m \u001B[38;5;66;03m# delete from the caches\u001B[39;00m\n",
      "File \u001B[0;32m/local/scratch/a/rahman89/PycharmProjects/common-env/venv/lib/python3.10/site-packages/pandas/core/indexes/base.py:3655\u001B[0m, in \u001B[0;36mIndex.get_loc\u001B[0;34m(self, key)\u001B[0m\n\u001B[1;32m   3653\u001B[0m     \u001B[38;5;28;01mreturn\u001B[39;00m \u001B[38;5;28mself\u001B[39m\u001B[38;5;241m.\u001B[39m_engine\u001B[38;5;241m.\u001B[39mget_loc(casted_key)\n\u001B[1;32m   3654\u001B[0m \u001B[38;5;28;01mexcept\u001B[39;00m \u001B[38;5;167;01mKeyError\u001B[39;00m \u001B[38;5;28;01mas\u001B[39;00m err:\n\u001B[0;32m-> 3655\u001B[0m     \u001B[38;5;28;01mraise\u001B[39;00m \u001B[38;5;167;01mKeyError\u001B[39;00m(key) \u001B[38;5;28;01mfrom\u001B[39;00m \u001B[38;5;21;01merr\u001B[39;00m\n\u001B[1;32m   3656\u001B[0m \u001B[38;5;28;01mexcept\u001B[39;00m \u001B[38;5;167;01mTypeError\u001B[39;00m:\n\u001B[1;32m   3657\u001B[0m     \u001B[38;5;66;03m# If we have a listlike key, _check_indexing_error will raise\u001B[39;00m\n\u001B[1;32m   3658\u001B[0m     \u001B[38;5;66;03m#  InvalidIndexError. Otherwise we fall through and re-raise\u001B[39;00m\n\u001B[1;32m   3659\u001B[0m     \u001B[38;5;66;03m#  the TypeError.\u001B[39;00m\n\u001B[1;32m   3660\u001B[0m     \u001B[38;5;28mself\u001B[39m\u001B[38;5;241m.\u001B[39m_check_indexing_error(key)\n",
      "\u001B[0;31mKeyError\u001B[0m: 'U1'"
     ]
    }
   ],
   "execution_count": 106
  },
  {
   "metadata": {},
   "cell_type": "markdown",
   "source": "# Generating client data ",
   "id": "56ff26278b97f426"
  },
  {
   "metadata": {
    "ExecuteTime": {
     "end_time": "2025-04-13T03:45:41.804249Z",
     "start_time": "2025-04-13T03:45:41.800100Z"
    }
   },
   "cell_type": "code",
   "source": [
    "data_chunks = np.array_split(main_dataset, nC)  # n chunks for n clients\n",
    "\n"
   ],
   "id": "8039b0e704f267c4",
   "outputs": [],
   "execution_count": 107
  },
  {
   "metadata": {
    "ExecuteTime": {
     "end_time": "2025-04-13T03:46:26.798162Z",
     "start_time": "2025-04-13T03:46:26.794405Z"
    }
   },
   "cell_type": "code",
   "source": [
    "project_root = '/local/scratch/a/rahman89/PycharmProjects/GenUnseen/MyProjects/CausalFed/FedDCM'\n",
    "exp_name=f'data/nonid{high_dim}'\n",
    "save_folder = f'{project_root}/{exp_name}'\n",
    "os.makedirs(save_folder, exist_ok=True)\n"
   ],
   "id": "c859f21ef4d03c70",
   "outputs": [],
   "execution_count": 114
  },
  {
   "metadata": {
    "ExecuteTime": {
     "end_time": "2025-04-13T03:46:27.544229Z",
     "start_time": "2025-04-13T03:46:27.530515Z"
    }
   },
   "cell_type": "code",
   "source": [
    "for client_no in range(nC):\n",
    "    save_loc = f'{save_folder}/client{client_no}_data.pkl'\n",
    "    print('Saving labels at', save_loc)\n",
    "    with open(save_loc, 'wb') as f:\n",
    "        pickle.dump(data_chunks[client_no], f)\n",
    "    \n",
    "    \n",
    "    save_loc = f'{save_folder}/client{client_no}_data.csv'        \n",
    "    data_chunks[client_no].to_csv(save_loc, index=False)\n"
   ],
   "id": "15ad7e3e22320f7c",
   "outputs": [
    {
     "name": "stdout",
     "output_type": "stream",
     "text": [
      "Saving labels at /local/scratch/a/rahman89/PycharmProjects/GenUnseen/MyProjects/CausalFed/FedDCM/data/nonid2/client0_data.pkl\n",
      "Saving labels at /local/scratch/a/rahman89/PycharmProjects/GenUnseen/MyProjects/CausalFed/FedDCM/data/nonid2/client1_data.pkl\n",
      "Saving labels at /local/scratch/a/rahman89/PycharmProjects/GenUnseen/MyProjects/CausalFed/FedDCM/data/nonid2/client2_data.pkl\n",
      "Saving labels at /local/scratch/a/rahman89/PycharmProjects/GenUnseen/MyProjects/CausalFed/FedDCM/data/nonid2/client3_data.pkl\n",
      "Saving labels at /local/scratch/a/rahman89/PycharmProjects/GenUnseen/MyProjects/CausalFed/FedDCM/data/nonid2/client4_data.pkl\n"
     ]
    }
   ],
   "execution_count": 115
  },
  {
   "metadata": {
    "ExecuteTime": {
     "end_time": "2025-04-13T03:46:29.681153Z",
     "start_time": "2025-04-13T03:46:29.672231Z"
    }
   },
   "cell_type": "code",
   "source": "data_chunks[4]",
   "id": "156b70aab241dac",
   "outputs": [
    {
     "data": {
      "text/plain": [
       "      Z  W  X  Y\n",
       "4000  1  0  0  0\n",
       "4001  1  0  0  0\n",
       "4002  0  1  1  1\n",
       "4003  1  0  1  1\n",
       "4004  0  0  1  1\n",
       "...  .. .. .. ..\n",
       "4995  0  0  0  1\n",
       "4996  1  0  0  0\n",
       "4997  1  0  1  1\n",
       "4998  1  0  0  0\n",
       "4999  0  1  1  1\n",
       "\n",
       "[1000 rows x 4 columns]"
      ],
      "text/html": [
       "<div>\n",
       "<style scoped>\n",
       "    .dataframe tbody tr th:only-of-type {\n",
       "        vertical-align: middle;\n",
       "    }\n",
       "\n",
       "    .dataframe tbody tr th {\n",
       "        vertical-align: top;\n",
       "    }\n",
       "\n",
       "    .dataframe thead th {\n",
       "        text-align: right;\n",
       "    }\n",
       "</style>\n",
       "<table border=\"1\" class=\"dataframe\">\n",
       "  <thead>\n",
       "    <tr style=\"text-align: right;\">\n",
       "      <th></th>\n",
       "      <th>Z</th>\n",
       "      <th>W</th>\n",
       "      <th>X</th>\n",
       "      <th>Y</th>\n",
       "    </tr>\n",
       "  </thead>\n",
       "  <tbody>\n",
       "    <tr>\n",
       "      <th>4000</th>\n",
       "      <td>1</td>\n",
       "      <td>0</td>\n",
       "      <td>0</td>\n",
       "      <td>0</td>\n",
       "    </tr>\n",
       "    <tr>\n",
       "      <th>4001</th>\n",
       "      <td>1</td>\n",
       "      <td>0</td>\n",
       "      <td>0</td>\n",
       "      <td>0</td>\n",
       "    </tr>\n",
       "    <tr>\n",
       "      <th>4002</th>\n",
       "      <td>0</td>\n",
       "      <td>1</td>\n",
       "      <td>1</td>\n",
       "      <td>1</td>\n",
       "    </tr>\n",
       "    <tr>\n",
       "      <th>4003</th>\n",
       "      <td>1</td>\n",
       "      <td>0</td>\n",
       "      <td>1</td>\n",
       "      <td>1</td>\n",
       "    </tr>\n",
       "    <tr>\n",
       "      <th>4004</th>\n",
       "      <td>0</td>\n",
       "      <td>0</td>\n",
       "      <td>1</td>\n",
       "      <td>1</td>\n",
       "    </tr>\n",
       "    <tr>\n",
       "      <th>...</th>\n",
       "      <td>...</td>\n",
       "      <td>...</td>\n",
       "      <td>...</td>\n",
       "      <td>...</td>\n",
       "    </tr>\n",
       "    <tr>\n",
       "      <th>4995</th>\n",
       "      <td>0</td>\n",
       "      <td>0</td>\n",
       "      <td>0</td>\n",
       "      <td>1</td>\n",
       "    </tr>\n",
       "    <tr>\n",
       "      <th>4996</th>\n",
       "      <td>1</td>\n",
       "      <td>0</td>\n",
       "      <td>0</td>\n",
       "      <td>0</td>\n",
       "    </tr>\n",
       "    <tr>\n",
       "      <th>4997</th>\n",
       "      <td>1</td>\n",
       "      <td>0</td>\n",
       "      <td>1</td>\n",
       "      <td>1</td>\n",
       "    </tr>\n",
       "    <tr>\n",
       "      <th>4998</th>\n",
       "      <td>1</td>\n",
       "      <td>0</td>\n",
       "      <td>0</td>\n",
       "      <td>0</td>\n",
       "    </tr>\n",
       "    <tr>\n",
       "      <th>4999</th>\n",
       "      <td>0</td>\n",
       "      <td>1</td>\n",
       "      <td>1</td>\n",
       "      <td>1</td>\n",
       "    </tr>\n",
       "  </tbody>\n",
       "</table>\n",
       "<p>1000 rows × 4 columns</p>\n",
       "</div>"
      ]
     },
     "execution_count": 116,
     "metadata": {},
     "output_type": "execute_result"
    }
   ],
   "execution_count": 116
  },
  {
   "metadata": {},
   "cell_type": "markdown",
   "source": "# Creating test dataset",
   "id": "ea226809d07d3193"
  },
  {
   "metadata": {
    "ExecuteTime": {
     "end_time": "2025-04-13T03:46:31.247967Z",
     "start_time": "2025-04-13T03:46:31.228810Z"
    }
   },
   "cell_type": "code",
   "source": [
    "g=gum.BNDatabaseGenerator(bn)\n",
    "num_test_samples= 1000\n",
    "N= num_test_samples\n",
    "g.drawSamples(N,{})\n",
    "test_dataset= g.to_pandas()\n",
    "del test_dataset['U1']\n",
    "del test_dataset['U2']\n",
    "test_dataset"
   ],
   "id": "c87aea3b2ad4625c",
   "outputs": [
    {
     "data": {
      "text/plain": [
       "     Z  W  X  Y\n",
       "0    1  0  0  0\n",
       "1    0  1  1  1\n",
       "2    0  1  1  1\n",
       "3    1  0  0  0\n",
       "4    1  0  0  0\n",
       "..  .. .. .. ..\n",
       "995  1  0  1  0\n",
       "996  1  0  0  0\n",
       "997  1  0  0  0\n",
       "998  1  1  0  1\n",
       "999  1  0  0  0\n",
       "\n",
       "[1000 rows x 4 columns]"
      ],
      "text/html": [
       "<div>\n",
       "<style scoped>\n",
       "    .dataframe tbody tr th:only-of-type {\n",
       "        vertical-align: middle;\n",
       "    }\n",
       "\n",
       "    .dataframe tbody tr th {\n",
       "        vertical-align: top;\n",
       "    }\n",
       "\n",
       "    .dataframe thead th {\n",
       "        text-align: right;\n",
       "    }\n",
       "</style>\n",
       "<table border=\"1\" class=\"dataframe\">\n",
       "  <thead>\n",
       "    <tr style=\"text-align: right;\">\n",
       "      <th></th>\n",
       "      <th>Z</th>\n",
       "      <th>W</th>\n",
       "      <th>X</th>\n",
       "      <th>Y</th>\n",
       "    </tr>\n",
       "  </thead>\n",
       "  <tbody>\n",
       "    <tr>\n",
       "      <th>0</th>\n",
       "      <td>1</td>\n",
       "      <td>0</td>\n",
       "      <td>0</td>\n",
       "      <td>0</td>\n",
       "    </tr>\n",
       "    <tr>\n",
       "      <th>1</th>\n",
       "      <td>0</td>\n",
       "      <td>1</td>\n",
       "      <td>1</td>\n",
       "      <td>1</td>\n",
       "    </tr>\n",
       "    <tr>\n",
       "      <th>2</th>\n",
       "      <td>0</td>\n",
       "      <td>1</td>\n",
       "      <td>1</td>\n",
       "      <td>1</td>\n",
       "    </tr>\n",
       "    <tr>\n",
       "      <th>3</th>\n",
       "      <td>1</td>\n",
       "      <td>0</td>\n",
       "      <td>0</td>\n",
       "      <td>0</td>\n",
       "    </tr>\n",
       "    <tr>\n",
       "      <th>4</th>\n",
       "      <td>1</td>\n",
       "      <td>0</td>\n",
       "      <td>0</td>\n",
       "      <td>0</td>\n",
       "    </tr>\n",
       "    <tr>\n",
       "      <th>...</th>\n",
       "      <td>...</td>\n",
       "      <td>...</td>\n",
       "      <td>...</td>\n",
       "      <td>...</td>\n",
       "    </tr>\n",
       "    <tr>\n",
       "      <th>995</th>\n",
       "      <td>1</td>\n",
       "      <td>0</td>\n",
       "      <td>1</td>\n",
       "      <td>0</td>\n",
       "    </tr>\n",
       "    <tr>\n",
       "      <th>996</th>\n",
       "      <td>1</td>\n",
       "      <td>0</td>\n",
       "      <td>0</td>\n",
       "      <td>0</td>\n",
       "    </tr>\n",
       "    <tr>\n",
       "      <th>997</th>\n",
       "      <td>1</td>\n",
       "      <td>0</td>\n",
       "      <td>0</td>\n",
       "      <td>0</td>\n",
       "    </tr>\n",
       "    <tr>\n",
       "      <th>998</th>\n",
       "      <td>1</td>\n",
       "      <td>1</td>\n",
       "      <td>0</td>\n",
       "      <td>1</td>\n",
       "    </tr>\n",
       "    <tr>\n",
       "      <th>999</th>\n",
       "      <td>1</td>\n",
       "      <td>0</td>\n",
       "      <td>0</td>\n",
       "      <td>0</td>\n",
       "    </tr>\n",
       "  </tbody>\n",
       "</table>\n",
       "<p>1000 rows × 4 columns</p>\n",
       "</div>"
      ]
     },
     "execution_count": 117,
     "metadata": {},
     "output_type": "execute_result"
    }
   ],
   "execution_count": 117
  },
  {
   "metadata": {
    "ExecuteTime": {
     "end_time": "2025-04-13T03:46:31.578659Z",
     "start_time": "2025-04-13T03:46:31.572186Z"
    }
   },
   "cell_type": "code",
   "source": [
    "save_loc=  f'{save_folder}/test_data.pkl'\n",
    "\n",
    "print('Saving labels at', save_loc)\n",
    "with open(save_loc, 'wb') as f:\n",
    "    pickle.dump(test_dataset, f)\n",
    "    \n",
    "save_loc = f'{save_folder}/test_data.csv'        \n",
    "data_chunks[client_no].to_csv(save_loc, index=False)"
   ],
   "id": "92d21f144adb1110",
   "outputs": [
    {
     "name": "stdout",
     "output_type": "stream",
     "text": [
      "Saving labels at /local/scratch/a/rahman89/PycharmProjects/GenUnseen/MyProjects/CausalFed/FedDCM/data/nonid2/test_data.pkl\n"
     ]
    }
   ],
   "execution_count": 118
  },
  {
   "metadata": {
    "ExecuteTime": {
     "end_time": "2025-04-13T03:46:32.114441Z",
     "start_time": "2025-04-13T03:46:32.112124Z"
    }
   },
   "cell_type": "code",
   "source": "",
   "id": "88cf161db73c66e5",
   "outputs": [],
   "execution_count": null
  },
  {
   "metadata": {},
   "cell_type": "code",
   "source": "",
   "id": "f935e9b3c2a9e491",
   "outputs": [],
   "execution_count": null
  }
 ],
 "metadata": {
  "kernelspec": {
   "display_name": "Python 3",
   "language": "python",
   "name": "python3"
  },
  "language_info": {
   "codemirror_mode": {
    "name": "ipython",
    "version": 2
   },
   "file_extension": ".py",
   "mimetype": "text/x-python",
   "name": "python",
   "nbconvert_exporter": "python",
   "pygments_lexer": "ipython2",
   "version": "2.7.6"
  }
 },
 "nbformat": 4,
 "nbformat_minor": 5
}
