{
 "cells": [
  {
   "cell_type": "code",
   "id": "initial_id",
   "metadata": {
    "collapsed": true,
    "ExecuteTime": {
     "end_time": "2025-04-12T14:10:44.447302Z",
     "start_time": "2025-04-12T14:10:43.416282Z"
    }
   },
   "source": [
    "import copy\n",
    "from cProfile import label\n",
    "\n",
    "import torch\n",
    "import torch.nn as nn\n",
    "import torch.optim as optim\n",
    "import torch.nn.functional as F\n",
    "import numpy as np\n",
    "from torch.utils.data import TensorDataset, DataLoader\n"
   ],
   "outputs": [],
   "execution_count": 1
  },
  {
   "metadata": {
    "ExecuteTime": {
     "end_time": "2025-04-13T00:01:05.358976Z",
     "start_time": "2025-04-13T00:01:05.296821Z"
    }
   },
   "cell_type": "code",
   "source": [
    "from pylab import *\n",
    "import matplotlib.pyplot as plt\n",
    "import os\n",
    "import pyAgrum as gum\n",
    "import pickle\n",
    "\n",
    "import pyAgrum.lib.notebook as gnb\n",
    "\n",
    "print('imported')\n",
    "\n",
    "bn=gum.BayesNet('Causal Graph')\n",
    "\n",
    "\n",
    "# high_dim=128\n",
    "high_dim=20\n",
    "\n",
    "\n",
    "all_nodes=['U', 'Z', 'X', 'Y']\n",
    "\n",
    "\n",
    "dim={\n",
    "    'U':3,\n",
    "    'Z':2,\n",
    "    'X': high_dim,\n",
    "    'Y':2\n",
    "}\n",
    "\n",
    "U,= [bn.add(name, dim['U']) for name in \"\".join(['U']) ]\n",
    "Z,= [bn.add(name, dim['Z']) for name in \"\".join(['Z']) ]\n",
    "X,= [bn.add(name, dim['X']) for name in \"\".join(['X']) ]\n",
    "Y, =[bn.add(name, dim['Y']) for name in \"\".join(['Y']) ]\n",
    "\n",
    "\n",
    "\n",
    "print (bn)\n",
    "\n",
    "\n",
    "bn.addArc(U,Z)\n",
    "bn.addArc(U,Y)\n",
    "# \n",
    "bn.addArc(Z,X)\n",
    "bn.addArc(X,Y)\n",
    "\n",
    "gnb.flow.row(bn)\n",
    "\n",
    "\n",
    "# gnb.sideBySide(gnb.getBN(bn))"
   ],
   "id": "cef6a8016bc63b1e",
   "outputs": [
    {
     "name": "stdout",
     "output_type": "stream",
     "text": [
      "imported\n",
      "BN{nodes: 4, arcs: 0, domainSize: 240, dim: 23, mem: 216o}\n"
     ]
    },
    {
     "data": {
      "text/plain": [
       "<IPython.core.display.HTML object>"
      ],
      "text/html": [
       "\n",
       "      <style>\n",
       "      .floating-box {\n",
       "      display: inline-block;\n",
       "      margin: 7px;\n",
       "      padding : 3px;\n",
       "      border: 0px solid transparent;  \n",
       "      valign:middle;\n",
       "      background-color: transparent;\n",
       "      }\n",
       "      </style>\n",
       "      <div class=\"floating-box\"><svg xmlns=\"http://www.w3.org/2000/svg\" xmlns:xlink=\"http://www.w3.org/1999/xlink\" width=\"90pt\" height=\"260pt\" viewBox=\"0.00 0.00 90.00 260.00\">\n",
       "<g id=\"graph0\" class=\"graph\" transform=\"scale(1 1) rotate(0) translate(4 256)\">\n",
       "<title>G</title>\n",
       "<!-- X -->\n",
       "<g id=\"node1\" class=\"node\">\n",
       "<title>X</title>\n",
       "<g id=\"a_node1\"><a xlink:title=\"(2) X\">\n",
       "<ellipse fill=\"#404040\" stroke=\"#4a4a4a\" cx=\"55\" cy=\"-90\" rx=\"27\" ry=\"18\"/>\n",
       "<text text-anchor=\"middle\" x=\"55\" y=\"-86.3\" font-family=\"Times,serif\" font-size=\"14.00\" fill=\"white\">X</text>\n",
       "</a>\n",
       "</g>\n",
       "</g>\n",
       "<!-- Y -->\n",
       "<g id=\"node3\" class=\"node\">\n",
       "<title>Y</title>\n",
       "<g id=\"a_node3\"><a xlink:title=\"(3) Y\">\n",
       "<ellipse fill=\"#404040\" stroke=\"#4a4a4a\" cx=\"27\" cy=\"-18\" rx=\"27\" ry=\"18\"/>\n",
       "<text text-anchor=\"middle\" x=\"27\" y=\"-14.3\" font-family=\"Times,serif\" font-size=\"14.00\" fill=\"white\">Y</text>\n",
       "</a>\n",
       "</g>\n",
       "</g>\n",
       "<!-- X&#45;&gt;Y -->\n",
       "<g id=\"edge4\" class=\"edge\">\n",
       "<title>X-&gt;Y</title>\n",
       "<g id=\"a_edge4\"><a xlink:title=\"2 → 3\">\n",
       "<path fill=\"none\" stroke=\"#4a4a4a\" d=\"M48.36,-72.41C45.09,-64.22 41.06,-54.14 37.38,-44.95\"/>\n",
       "<polygon fill=\"#4a4a4a\" stroke=\"#4a4a4a\" points=\"40.55,-43.45 33.59,-35.47 34.05,-46.05 40.55,-43.45\"/>\n",
       "</a>\n",
       "</g>\n",
       "</g>\n",
       "<!-- U -->\n",
       "<g id=\"node2\" class=\"node\">\n",
       "<title>U</title>\n",
       "<g id=\"a_node2\"><a xlink:title=\"(0) U\">\n",
       "<ellipse fill=\"#404040\" stroke=\"#4a4a4a\" cx=\"27\" cy=\"-234\" rx=\"27\" ry=\"18\"/>\n",
       "<text text-anchor=\"middle\" x=\"27\" y=\"-230.3\" font-family=\"Times,serif\" font-size=\"14.00\" fill=\"white\">U</text>\n",
       "</a>\n",
       "</g>\n",
       "</g>\n",
       "<!-- U&#45;&gt;Y -->\n",
       "<g id=\"edge3\" class=\"edge\">\n",
       "<title>U-&gt;Y</title>\n",
       "<g id=\"a_edge3\"><a xlink:title=\"0 → 3\">\n",
       "<path fill=\"none\" stroke=\"#4a4a4a\" d=\"M23.75,-215.89C21.95,-205.54 19.91,-192.06 19,-180 15.41,-132.13 15.41,-119.87 19,-72 19.64,-63.52 20.84,-54.34 22.12,-46.04\"/>\n",
       "<polygon fill=\"#4a4a4a\" stroke=\"#4a4a4a\" points=\"25.58,-46.55 23.75,-36.11 18.68,-45.41 25.58,-46.55\"/>\n",
       "</a>\n",
       "</g>\n",
       "</g>\n",
       "<!-- Z -->\n",
       "<g id=\"node4\" class=\"node\">\n",
       "<title>Z</title>\n",
       "<g id=\"a_node4\"><a xlink:title=\"(1) Z\">\n",
       "<ellipse fill=\"#404040\" stroke=\"#4a4a4a\" cx=\"55\" cy=\"-162\" rx=\"27\" ry=\"18\"/>\n",
       "<text text-anchor=\"middle\" x=\"55\" y=\"-158.3\" font-family=\"Times,serif\" font-size=\"14.00\" fill=\"white\">Z</text>\n",
       "</a>\n",
       "</g>\n",
       "</g>\n",
       "<!-- U&#45;&gt;Z -->\n",
       "<g id=\"edge1\" class=\"edge\">\n",
       "<title>U-&gt;Z</title>\n",
       "<g id=\"a_edge1\"><a xlink:title=\"0 → 1\">\n",
       "<path fill=\"none\" stroke=\"#4a4a4a\" d=\"M33.64,-216.41C36.91,-208.22 40.94,-198.14 44.62,-188.95\"/>\n",
       "<polygon fill=\"#4a4a4a\" stroke=\"#4a4a4a\" points=\"47.95,-190.05 48.41,-179.47 41.45,-187.45 47.95,-190.05\"/>\n",
       "</a>\n",
       "</g>\n",
       "</g>\n",
       "<!-- Z&#45;&gt;X -->\n",
       "<g id=\"edge2\" class=\"edge\">\n",
       "<title>Z-&gt;X</title>\n",
       "<g id=\"a_edge2\"><a xlink:title=\"1 → 2\">\n",
       "<path fill=\"none\" stroke=\"#4a4a4a\" d=\"M55,-143.7C55,-135.98 55,-126.71 55,-118.11\"/>\n",
       "<polygon fill=\"#4a4a4a\" stroke=\"#4a4a4a\" points=\"58.5,-118.1 55,-108.1 51.5,-118.1 58.5,-118.1\"/>\n",
       "</a>\n",
       "</g>\n",
       "</g>\n",
       "</g>\n",
       "</svg></div>"
      ]
     },
     "metadata": {},
     "output_type": "display_data"
    }
   ],
   "execution_count": 77
  },
  {
   "metadata": {
    "ExecuteTime": {
     "end_time": "2025-04-13T00:01:06.633563Z",
     "start_time": "2025-04-13T00:01:06.629365Z"
    }
   },
   "cell_type": "code",
   "source": "bn.names()",
   "id": "da72cd3fa574e631",
   "outputs": [
    {
     "data": {
      "text/plain": [
       "{'U', 'X', 'Y', 'Z'}"
      ]
     },
     "execution_count": 78,
     "metadata": {},
     "output_type": "execute_result"
    }
   ],
   "execution_count": 78
  },
  {
   "metadata": {},
   "cell_type": "markdown",
   "source": "# Generate From dirilichlet distribution",
   "id": "18cdb482947d61b2"
  },
  {
   "metadata": {},
   "cell_type": "markdown",
   "source": "# True intervention",
   "id": "b142bb3a3dae0d02"
  },
  {
   "metadata": {
    "ExecuteTime": {
     "end_time": "2025-04-13T00:01:07.592348Z",
     "start_time": "2025-04-13T00:01:07.588139Z"
    }
   },
   "cell_type": "code",
   "source": [
    "\n",
    "\n",
    "\n",
    "# intervened graph         \n",
    "def get_bn(bn2, intervened):\n",
    "    for var in intervened:\n",
    "        for parent in bn2.cpt(var).var_names:\n",
    "            if parent != var:\n",
    "                bn2.eraseArc(*(parent, var))\n",
    "\n",
    "        \n",
    "        lst = [0 for i in range(dim[var])]\n",
    "        lst[intervened[var]] = 1\n",
    "        bn2.cpt(var).fillWith(lst)\n",
    "\n",
    "    return bn2\n",
    "\n",
    "\n"
   ],
   "id": "3735567835d2d767",
   "outputs": [],
   "execution_count": 79
  },
  {
   "metadata": {
    "ExecuteTime": {
     "end_time": "2025-04-13T00:01:08.165235Z",
     "start_time": "2025-04-13T00:01:08.160414Z"
    }
   },
   "cell_type": "code",
   "source": [
    "# Ground True intervention     \n",
    "\n",
    "def get_true_causal_effect(bn, treatment='X', outcome='Y'):\n",
    "\n",
    "    true_intv=[]\n",
    "    for x in range(dim[treatment]):\n",
    "        intervened={treatment:x}\n",
    "        bn_intv=gum.BayesNet(bn)\n",
    "        bn_intv= get_bn(bn_intv, intervened)\n",
    "        \n",
    "        all_nodes=bn_intv.names()\n",
    "        ie = gum.LazyPropagation(bn_intv)\n",
    "        var_set = set(all_nodes)\n",
    "        ie.addJointTarget(var_set)\n",
    "        ie.makeInference()\n",
    "        \n",
    "        pY_dox= ie.evidenceJointImpact([outcome], [])\n",
    "        \n",
    "        true_intv+=  list(pY_dox.toarray())\n",
    "        # gnb.flow.row(pY_dox, captions=[f'P({outcome}|do{intervened})'])\n",
    "    \n",
    "    return true_intv\n"
   ],
   "id": "3be23bb81219beb4",
   "outputs": [],
   "execution_count": 80
  },
  {
   "metadata": {
    "ExecuteTime": {
     "end_time": "2025-04-13T00:01:09.375194Z",
     "start_time": "2025-04-13T00:01:09.371288Z"
    }
   },
   "cell_type": "code",
   "source": [
    "\n",
    "def powerset(s):\n",
    "    \n",
    "    lst=[]\n",
    "    x = len(s)\n",
    "    for i in range(1 << x):\n",
    "        lst.append([s[j] for j in range(x) if (i & (1 << j))])\n",
    "\n",
    "    return lst\n",
    "    \n",
    "# all_adj\n",
    "# powerset(all_adj)"
   ],
   "id": "ace993e7690396ee",
   "outputs": [],
   "execution_count": 81
  },
  {
   "metadata": {
    "ExecuteTime": {
     "end_time": "2025-04-12T18:05:12.323129Z",
     "start_time": "2025-04-12T18:05:12.286856Z"
    }
   },
   "cell_type": "code",
   "source": [
    "import math\n",
    "import numpy as np\n",
    "from scipy.special import xlogy\n",
    "import scipy.stats as stats\n",
    "import matplotlib.pyplot as plt\n",
    "\n",
    "## set seed\n",
    "# np.random.seed(0)\n",
    "\n",
    "\n",
    "while(True):\n",
    "\n",
    "\n",
    "    ## Gernerate distributions according to the graphical model\n",
    "    dir_parm= 0.5 # initially 0.1\n",
    "    \n",
    "    \n",
    "    pu = stats.dirichlet.rvs([dir_parm]* dim['U'], size=1)\n",
    "    pz = stats.dirichlet.rvs([dir_parm]*dim['Z'], size=dim['U'])\n",
    "    \n",
    "    px = stats.dirichlet.rvs([dir_parm] * dim['X'], size=dim['Z'])\n",
    "    py = stats.dirichlet.rvs([dir_parm] * dim['Y'], size=dim['U']*dim['X'])\n",
    "    \n",
    "    \n",
    "    pu= np.squeeze(pu, axis=None)\n",
    "    bn.cpt('U').fillWith(pu) \n",
    "    \n",
    "    \n",
    "    bn.cpt('Z')[:]= pz.reshape((dim['U'], dim['Z']))\n",
    "    bn.cpt('Z')\n",
    "    \n",
    "    \n",
    "    bn.cpt('X')[:]= px.reshape((dim['Z'], dim['X']))\n",
    "    bn.cpt('X')\n",
    "    \n",
    "    \n",
    "    \n",
    "    bn.cpt('Y')[:]= py.reshape(( dim['X'], dim['U'], dim['Y'] ))\n",
    "    bn.cpt('Y')\n",
    "    \n",
    "    \n",
    "    # Joint distribution\n",
    "    ie=gum.LazyPropagation(bn)\n",
    "    ie.makeInference()\n",
    "    \n",
    "    \n",
    "    py_z= ie.evidenceJointImpact(['Y'], ['Z'])\n",
    "    # gnb.flow.row(ie.evidenceJointImpact(['Y'], ['Z']), captions=[f'P(y|z)'])\n",
    "    \n",
    "    \n",
    "    \n",
    "    # True causal effect\n",
    "    true_intv = get_true_causal_effect(bn, treatment='Z', outcome='Y')\n",
    "    \n",
    "    \n",
    "    \n",
    "    \n",
    "    sum=0\n",
    "    for iter, value in enumerate(true_intv):\n",
    "        sum+=  abs(np.array(py_z.toarray()).reshape(1,-1)[0][iter] - true_intv[iter])\n",
    "    \n",
    "    print(sum)\n",
    "    \n",
    "    if sum/2 >0.40:\n",
    "        break"
   ],
   "id": "8df1f5e3a2d37cb9",
   "outputs": [
    {
     "name": "stdout",
     "output_type": "stream",
     "text": [
      "0.13629818450152498\n",
      "0.5198652103050364\n",
      "0.0016383199252369002\n",
      "0.4626481656595369\n",
      "0.11105737094766832\n",
      "0.17778876101271457\n",
      "0.7895076124336138\n",
      "0.5538941916184275\n",
      "0.1189843435008332\n",
      "0.018127344020360675\n",
      "0.28195492129830135\n",
      "1.0233538733484506\n"
     ]
    }
   ],
   "execution_count": 62
  },
  {
   "metadata": {
    "ExecuteTime": {
     "end_time": "2025-04-13T00:01:21.291579Z",
     "start_time": "2025-04-13T00:01:21.285199Z"
    }
   },
   "cell_type": "code",
   "source": [
    "ie=gum.LazyPropagation(bn)\n",
    "ie.makeInference()\n",
    "py_z= ie.evidenceJointImpact(['Y'], ['Z'])\n",
    "print(py_z)\n",
    "\n",
    "true_intv = get_true_causal_effect(bn, treatment='Z', outcome='Y')\n",
    "print(true_intv)"
   ],
   "id": "1c788c17a65bc6c",
   "outputs": [
    {
     "name": "stdout",
     "output_type": "stream",
     "text": [
      "\n",
      "      ||  Y                |\n",
      "Z     ||0        |1        |\n",
      "------||---------|---------|\n",
      "0     || 0.7313  | 0.2687  |\n",
      "1     || 0.2303  | 0.7697  |\n",
      "\n",
      "[0.7111775652066921, 0.28882243479330794, 0.6422892370679784, 0.35771076293202175]\n"
     ]
    },
    {
     "name": "stderr",
     "output_type": "stream",
     "text": [
      "/local/scratch/a/rahman89/PycharmProjects/common-env/venv/lib/python3.10/site-packages/pyAgrum/pyAgrum.py:10018: UserWarning: \n",
      "** pyAgrum.Potential.var_names is obsolete in pyAgrum>0.22.9. Please use pyAgrum.Potential.names.\n",
      "\n",
      "  warnings.warn(\"\\n** pyAgrum.Potential.var_names is obsolete in pyAgrum>0.22.9. Please use pyAgrum.Potential.names.\\n\")\n"
     ]
    }
   ],
   "execution_count": 83
  },
  {
   "metadata": {
    "ExecuteTime": {
     "end_time": "2025-04-12T18:05:24.860909Z",
     "start_time": "2025-04-12T18:05:24.855940Z"
    }
   },
   "cell_type": "code",
   "source": "bn.cpt('X')",
   "id": "320db944be4e131a",
   "outputs": [
    {
     "data": {
      "text/plain": [
       "(pyAgrum.Potential<double>@0x557aba26c3e0) \n",
       "      ||  X                |\n",
       "Z     ||0        |1        |\n",
       "------||---------|---------|\n",
       "0     || 0.3832  | 0.6168  |\n",
       "1     || 0.1761  | 0.8239  |"
      ],
      "text/html": [
       "<table style=\"border:1px solid black;border-collapse: collapse;\">\n",
       "<tr><th colspan='1'></th>\n",
       "      <th colspan='2' style='border:1px solid black;color:black;background-color:#808080;'><center>X</center>\n",
       "      </th></tr>\n",
       "<tr><th style='border:1px solid black;color:black;background-color:#808080'><center>Z</center></th><th style='border:1px solid black;border-bottom-style: double;color:black;background-color:#BBBBBB'>\n",
       "      <center>0</center></th><th style='border:1px solid black;border-bottom-style: double;color:black;background-color:#BBBBBB'>\n",
       "      <center>1</center></th></tr>\n",
       "<tr><th style='border:1px solid black;color:black;background-color:#BBBBBB'><center>0</center></th><td style='color:black;background-color:#cdb064;text-align:right;padding: 3px;'>0.3832</td><td style='color:black;background-color:#b0cd64;text-align:right;padding: 3px;'>0.6168</td></tr>\n",
       "<tr><th style='border:1px solid black;color:black;background-color:#BBBBBB'><center>1</center></th><td style='color:black;background-color:#e89564;text-align:right;padding: 3px;'>0.1761</td><td style='color:black;background-color:#95e864;text-align:right;padding: 3px;'>0.8239</td></tr>\n",
       "</table>"
      ]
     },
     "execution_count": 64,
     "metadata": {},
     "output_type": "execute_result"
    }
   ],
   "execution_count": 64
  },
  {
   "metadata": {
    "ExecuteTime": {
     "end_time": "2025-04-12T18:05:26.757731Z",
     "start_time": "2025-04-12T18:05:26.751871Z"
    }
   },
   "cell_type": "code",
   "source": [
    "import pickle\n",
    "\n",
    "bnid=high_dim\n",
    "\n",
    "save= f'./bn_{bnid}.pickle'\n",
    "with open(save, 'wb') as handle:\n",
    "    pickle.dump(bn, handle, protocol=pickle.HIGHEST_PROTOCOL)\n",
    "save"
   ],
   "id": "99cb6860ae783a48",
   "outputs": [
    {
     "data": {
      "text/plain": [
       "'./bn_2.pickle'"
      ]
     },
     "execution_count": 65,
     "metadata": {},
     "output_type": "execute_result"
    }
   ],
   "execution_count": 65
  },
  {
   "metadata": {
    "ExecuteTime": {
     "end_time": "2025-04-12T18:05:27.578824Z",
     "start_time": "2025-04-12T18:05:27.520257Z"
    }
   },
   "cell_type": "code",
   "source": "bn",
   "id": "82751d60fc602a73",
   "outputs": [
    {
     "data": {
      "text/plain": [
       "(pyAgrum.BayesNet<double>@0x557aba7233b0) BN{nodes: 4, arcs: 4, domainSize: 24, dim: 13, mem: 200o}"
      ],
      "text/html": [
       "<svg xmlns=\"http://www.w3.org/2000/svg\" xmlns:xlink=\"http://www.w3.org/1999/xlink\" width=\"90pt\" height=\"260pt\" viewBox=\"0.00 0.00 90.00 260.00\">\n",
       "<g id=\"graph0\" class=\"graph\" transform=\"scale(1 1) rotate(0) translate(4 256)\">\n",
       "<title>G</title>\n",
       "<!-- X -->\n",
       "<g id=\"node1\" class=\"node\">\n",
       "<title>X</title>\n",
       "<g id=\"a_node1\"><a xlink:title=\"(2) X\">\n",
       "<ellipse fill=\"#404040\" stroke=\"#4a4a4a\" cx=\"55\" cy=\"-90\" rx=\"27\" ry=\"18\"/>\n",
       "<text text-anchor=\"middle\" x=\"55\" y=\"-86.3\" font-family=\"Times,serif\" font-size=\"14.00\" fill=\"white\">X</text>\n",
       "</a>\n",
       "</g>\n",
       "</g>\n",
       "<!-- Y -->\n",
       "<g id=\"node3\" class=\"node\">\n",
       "<title>Y</title>\n",
       "<g id=\"a_node3\"><a xlink:title=\"(3) Y\">\n",
       "<ellipse fill=\"#404040\" stroke=\"#4a4a4a\" cx=\"27\" cy=\"-18\" rx=\"27\" ry=\"18\"/>\n",
       "<text text-anchor=\"middle\" x=\"27\" y=\"-14.3\" font-family=\"Times,serif\" font-size=\"14.00\" fill=\"white\">Y</text>\n",
       "</a>\n",
       "</g>\n",
       "</g>\n",
       "<!-- X&#45;&gt;Y -->\n",
       "<g id=\"edge4\" class=\"edge\">\n",
       "<title>X-&gt;Y</title>\n",
       "<g id=\"a_edge4\"><a xlink:title=\"2 → 3\">\n",
       "<path fill=\"none\" stroke=\"#4a4a4a\" d=\"M48.36,-72.41C45.09,-64.22 41.06,-54.14 37.38,-44.95\"/>\n",
       "<polygon fill=\"#4a4a4a\" stroke=\"#4a4a4a\" points=\"40.55,-43.45 33.59,-35.47 34.05,-46.05 40.55,-43.45\"/>\n",
       "</a>\n",
       "</g>\n",
       "</g>\n",
       "<!-- U -->\n",
       "<g id=\"node2\" class=\"node\">\n",
       "<title>U</title>\n",
       "<g id=\"a_node2\"><a xlink:title=\"(0) U\">\n",
       "<ellipse fill=\"#404040\" stroke=\"#4a4a4a\" cx=\"27\" cy=\"-234\" rx=\"27\" ry=\"18\"/>\n",
       "<text text-anchor=\"middle\" x=\"27\" y=\"-230.3\" font-family=\"Times,serif\" font-size=\"14.00\" fill=\"white\">U</text>\n",
       "</a>\n",
       "</g>\n",
       "</g>\n",
       "<!-- U&#45;&gt;Y -->\n",
       "<g id=\"edge3\" class=\"edge\">\n",
       "<title>U-&gt;Y</title>\n",
       "<g id=\"a_edge3\"><a xlink:title=\"0 → 3\">\n",
       "<path fill=\"none\" stroke=\"#4a4a4a\" d=\"M23.75,-215.89C21.95,-205.54 19.91,-192.06 19,-180 15.41,-132.13 15.41,-119.87 19,-72 19.64,-63.52 20.84,-54.34 22.12,-46.04\"/>\n",
       "<polygon fill=\"#4a4a4a\" stroke=\"#4a4a4a\" points=\"25.58,-46.55 23.75,-36.11 18.68,-45.41 25.58,-46.55\"/>\n",
       "</a>\n",
       "</g>\n",
       "</g>\n",
       "<!-- Z -->\n",
       "<g id=\"node4\" class=\"node\">\n",
       "<title>Z</title>\n",
       "<g id=\"a_node4\"><a xlink:title=\"(1) Z\">\n",
       "<ellipse fill=\"#404040\" stroke=\"#4a4a4a\" cx=\"55\" cy=\"-162\" rx=\"27\" ry=\"18\"/>\n",
       "<text text-anchor=\"middle\" x=\"55\" y=\"-158.3\" font-family=\"Times,serif\" font-size=\"14.00\" fill=\"white\">Z</text>\n",
       "</a>\n",
       "</g>\n",
       "</g>\n",
       "<!-- U&#45;&gt;Z -->\n",
       "<g id=\"edge1\" class=\"edge\">\n",
       "<title>U-&gt;Z</title>\n",
       "<g id=\"a_edge1\"><a xlink:title=\"0 → 1\">\n",
       "<path fill=\"none\" stroke=\"#4a4a4a\" d=\"M33.64,-216.41C36.91,-208.22 40.94,-198.14 44.62,-188.95\"/>\n",
       "<polygon fill=\"#4a4a4a\" stroke=\"#4a4a4a\" points=\"47.95,-190.05 48.41,-179.47 41.45,-187.45 47.95,-190.05\"/>\n",
       "</a>\n",
       "</g>\n",
       "</g>\n",
       "<!-- Z&#45;&gt;X -->\n",
       "<g id=\"edge2\" class=\"edge\">\n",
       "<title>Z-&gt;X</title>\n",
       "<g id=\"a_edge2\"><a xlink:title=\"1 → 2\">\n",
       "<path fill=\"none\" stroke=\"#4a4a4a\" d=\"M55,-143.7C55,-135.98 55,-126.71 55,-118.11\"/>\n",
       "<polygon fill=\"#4a4a4a\" stroke=\"#4a4a4a\" points=\"58.5,-118.1 55,-108.1 51.5,-118.1 58.5,-118.1\"/>\n",
       "</a>\n",
       "</g>\n",
       "</g>\n",
       "</g>\n",
       "</svg>"
      ]
     },
     "execution_count": 66,
     "metadata": {},
     "output_type": "execute_result"
    }
   ],
   "execution_count": 66
  },
  {
   "metadata": {
    "ExecuteTime": {
     "end_time": "2025-04-13T00:01:17.801363Z",
     "start_time": "2025-04-13T00:01:17.796033Z"
    }
   },
   "cell_type": "code",
   "source": [
    "import pickle\n",
    "# bnid='fedsynthetic'     #  when x is 20 dimensional.\n",
    "\n",
    "# bnid='x20'     #  when x is 20 dimensional.\n",
    "bnid=high_dim     #  when x is 64 dimensional.\n",
    "with open(f'./bn_{bnid}.pickle', 'rb') as handle:\n",
    "    bn = pickle.load(handle)\n",
    "    \n",
    "# bn.cpt('Y')\n",
    "bnid"
   ],
   "id": "adb1d3896da3b13",
   "outputs": [
    {
     "data": {
      "text/plain": [
       "20"
      ]
     },
     "execution_count": 82,
     "metadata": {},
     "output_type": "execute_result"
    }
   ],
   "execution_count": 82
  },
  {
   "metadata": {
    "ExecuteTime": {
     "end_time": "2025-04-12T18:05:49.042298Z",
     "start_time": "2025-04-12T18:05:49.003716Z"
    }
   },
   "cell_type": "code",
   "source": [
    "nC = 5 # number of clients\n",
    "\n",
    "samples_per_client= 1000\n",
    "\n",
    "g=gum.BNDatabaseGenerator(bn)\n",
    "N= (nC)*samples_per_client\n",
    "g.drawSamples(N,{})\n",
    "main_dataset= g.to_pandas().astype(int)\n",
    "main_dataset"
   ],
   "id": "e71119933fd72243",
   "outputs": [
    {
     "data": {
      "text/plain": [
       "      U  Z  X  Y\n",
       "0     2  1  0  0\n",
       "1     2  0  1  0\n",
       "2     0  1  1  0\n",
       "3     2  0  0  0\n",
       "4     2  0  0  0\n",
       "...  .. .. .. ..\n",
       "4995  0  1  1  0\n",
       "4996  2  0  0  0\n",
       "4997  0  1  0  1\n",
       "4998  2  0  1  0\n",
       "4999  0  1  1  0\n",
       "\n",
       "[5000 rows x 4 columns]"
      ],
      "text/html": [
       "<div>\n",
       "<style scoped>\n",
       "    .dataframe tbody tr th:only-of-type {\n",
       "        vertical-align: middle;\n",
       "    }\n",
       "\n",
       "    .dataframe tbody tr th {\n",
       "        vertical-align: top;\n",
       "    }\n",
       "\n",
       "    .dataframe thead th {\n",
       "        text-align: right;\n",
       "    }\n",
       "</style>\n",
       "<table border=\"1\" class=\"dataframe\">\n",
       "  <thead>\n",
       "    <tr style=\"text-align: right;\">\n",
       "      <th></th>\n",
       "      <th>U</th>\n",
       "      <th>Z</th>\n",
       "      <th>X</th>\n",
       "      <th>Y</th>\n",
       "    </tr>\n",
       "  </thead>\n",
       "  <tbody>\n",
       "    <tr>\n",
       "      <th>0</th>\n",
       "      <td>2</td>\n",
       "      <td>1</td>\n",
       "      <td>0</td>\n",
       "      <td>0</td>\n",
       "    </tr>\n",
       "    <tr>\n",
       "      <th>1</th>\n",
       "      <td>2</td>\n",
       "      <td>0</td>\n",
       "      <td>1</td>\n",
       "      <td>0</td>\n",
       "    </tr>\n",
       "    <tr>\n",
       "      <th>2</th>\n",
       "      <td>0</td>\n",
       "      <td>1</td>\n",
       "      <td>1</td>\n",
       "      <td>0</td>\n",
       "    </tr>\n",
       "    <tr>\n",
       "      <th>3</th>\n",
       "      <td>2</td>\n",
       "      <td>0</td>\n",
       "      <td>0</td>\n",
       "      <td>0</td>\n",
       "    </tr>\n",
       "    <tr>\n",
       "      <th>4</th>\n",
       "      <td>2</td>\n",
       "      <td>0</td>\n",
       "      <td>0</td>\n",
       "      <td>0</td>\n",
       "    </tr>\n",
       "    <tr>\n",
       "      <th>...</th>\n",
       "      <td>...</td>\n",
       "      <td>...</td>\n",
       "      <td>...</td>\n",
       "      <td>...</td>\n",
       "    </tr>\n",
       "    <tr>\n",
       "      <th>4995</th>\n",
       "      <td>0</td>\n",
       "      <td>1</td>\n",
       "      <td>1</td>\n",
       "      <td>0</td>\n",
       "    </tr>\n",
       "    <tr>\n",
       "      <th>4996</th>\n",
       "      <td>2</td>\n",
       "      <td>0</td>\n",
       "      <td>0</td>\n",
       "      <td>0</td>\n",
       "    </tr>\n",
       "    <tr>\n",
       "      <th>4997</th>\n",
       "      <td>0</td>\n",
       "      <td>1</td>\n",
       "      <td>0</td>\n",
       "      <td>1</td>\n",
       "    </tr>\n",
       "    <tr>\n",
       "      <th>4998</th>\n",
       "      <td>2</td>\n",
       "      <td>0</td>\n",
       "      <td>1</td>\n",
       "      <td>0</td>\n",
       "    </tr>\n",
       "    <tr>\n",
       "      <th>4999</th>\n",
       "      <td>0</td>\n",
       "      <td>1</td>\n",
       "      <td>1</td>\n",
       "      <td>0</td>\n",
       "    </tr>\n",
       "  </tbody>\n",
       "</table>\n",
       "<p>5000 rows × 4 columns</p>\n",
       "</div>"
      ]
     },
     "execution_count": 69,
     "metadata": {},
     "output_type": "execute_result"
    }
   ],
   "execution_count": 69
  },
  {
   "metadata": {
    "ExecuteTime": {
     "end_time": "2025-04-12T18:05:50.032006Z",
     "start_time": "2025-04-12T18:05:50.023401Z"
    }
   },
   "cell_type": "code",
   "source": [
    "del main_dataset['U']\n",
    "main_dataset"
   ],
   "id": "8ea0ea71566ff9e8",
   "outputs": [
    {
     "data": {
      "text/plain": [
       "      Z  X  Y\n",
       "0     1  0  0\n",
       "1     0  1  0\n",
       "2     1  1  0\n",
       "3     0  0  0\n",
       "4     0  0  0\n",
       "...  .. .. ..\n",
       "4995  1  1  0\n",
       "4996  0  0  0\n",
       "4997  1  0  1\n",
       "4998  0  1  0\n",
       "4999  1  1  0\n",
       "\n",
       "[5000 rows x 3 columns]"
      ],
      "text/html": [
       "<div>\n",
       "<style scoped>\n",
       "    .dataframe tbody tr th:only-of-type {\n",
       "        vertical-align: middle;\n",
       "    }\n",
       "\n",
       "    .dataframe tbody tr th {\n",
       "        vertical-align: top;\n",
       "    }\n",
       "\n",
       "    .dataframe thead th {\n",
       "        text-align: right;\n",
       "    }\n",
       "</style>\n",
       "<table border=\"1\" class=\"dataframe\">\n",
       "  <thead>\n",
       "    <tr style=\"text-align: right;\">\n",
       "      <th></th>\n",
       "      <th>Z</th>\n",
       "      <th>X</th>\n",
       "      <th>Y</th>\n",
       "    </tr>\n",
       "  </thead>\n",
       "  <tbody>\n",
       "    <tr>\n",
       "      <th>0</th>\n",
       "      <td>1</td>\n",
       "      <td>0</td>\n",
       "      <td>0</td>\n",
       "    </tr>\n",
       "    <tr>\n",
       "      <th>1</th>\n",
       "      <td>0</td>\n",
       "      <td>1</td>\n",
       "      <td>0</td>\n",
       "    </tr>\n",
       "    <tr>\n",
       "      <th>2</th>\n",
       "      <td>1</td>\n",
       "      <td>1</td>\n",
       "      <td>0</td>\n",
       "    </tr>\n",
       "    <tr>\n",
       "      <th>3</th>\n",
       "      <td>0</td>\n",
       "      <td>0</td>\n",
       "      <td>0</td>\n",
       "    </tr>\n",
       "    <tr>\n",
       "      <th>4</th>\n",
       "      <td>0</td>\n",
       "      <td>0</td>\n",
       "      <td>0</td>\n",
       "    </tr>\n",
       "    <tr>\n",
       "      <th>...</th>\n",
       "      <td>...</td>\n",
       "      <td>...</td>\n",
       "      <td>...</td>\n",
       "    </tr>\n",
       "    <tr>\n",
       "      <th>4995</th>\n",
       "      <td>1</td>\n",
       "      <td>1</td>\n",
       "      <td>0</td>\n",
       "    </tr>\n",
       "    <tr>\n",
       "      <th>4996</th>\n",
       "      <td>0</td>\n",
       "      <td>0</td>\n",
       "      <td>0</td>\n",
       "    </tr>\n",
       "    <tr>\n",
       "      <th>4997</th>\n",
       "      <td>1</td>\n",
       "      <td>0</td>\n",
       "      <td>1</td>\n",
       "    </tr>\n",
       "    <tr>\n",
       "      <th>4998</th>\n",
       "      <td>0</td>\n",
       "      <td>1</td>\n",
       "      <td>0</td>\n",
       "    </tr>\n",
       "    <tr>\n",
       "      <th>4999</th>\n",
       "      <td>1</td>\n",
       "      <td>1</td>\n",
       "      <td>0</td>\n",
       "    </tr>\n",
       "  </tbody>\n",
       "</table>\n",
       "<p>5000 rows × 3 columns</p>\n",
       "</div>"
      ]
     },
     "execution_count": 70,
     "metadata": {},
     "output_type": "execute_result"
    }
   ],
   "execution_count": 70
  },
  {
   "metadata": {},
   "cell_type": "markdown",
   "source": "# Generating client data ",
   "id": "56ff26278b97f426"
  },
  {
   "metadata": {
    "ExecuteTime": {
     "end_time": "2025-04-12T18:05:51.552574Z",
     "start_time": "2025-04-12T18:05:51.548574Z"
    }
   },
   "cell_type": "code",
   "source": [
    "data_chunks = np.array_split(main_dataset, nC)  # n chunks for n clients\n",
    "\n"
   ],
   "id": "8039b0e704f267c4",
   "outputs": [],
   "execution_count": 71
  },
  {
   "metadata": {
    "ExecuteTime": {
     "end_time": "2025-04-12T18:05:52.135725Z",
     "start_time": "2025-04-12T18:05:52.132359Z"
    }
   },
   "cell_type": "code",
   "source": [
    "project_root = '/local/scratch/a/rahman89/PycharmProjects/GenUnseen/MyProjects/CausalFed/FedDCM'\n",
    "exp_name=f'data/frontdoor{high_dim}'\n",
    "save_folder = f'{project_root}/{exp_name}'\n",
    "os.makedirs(save_folder, exist_ok=True)\n"
   ],
   "id": "c859f21ef4d03c70",
   "outputs": [],
   "execution_count": 72
  },
  {
   "metadata": {
    "ExecuteTime": {
     "end_time": "2025-04-12T18:05:52.499778Z",
     "start_time": "2025-04-12T18:05:52.486780Z"
    }
   },
   "cell_type": "code",
   "source": [
    "for client_no in range(nC):\n",
    "    save_loc = f'{save_folder}/client{client_no}_data.pkl'\n",
    "    print('Saving labels at', save_loc)\n",
    "    with open(save_loc, 'wb') as f:\n",
    "        pickle.dump(data_chunks[client_no], f)\n",
    "    \n",
    "    \n",
    "    save_loc = f'{save_folder}/client{client_no}_data.csv'        \n",
    "    data_chunks[client_no].to_csv(save_loc, index=False)\n"
   ],
   "id": "15ad7e3e22320f7c",
   "outputs": [
    {
     "name": "stdout",
     "output_type": "stream",
     "text": [
      "Saving labels at /local/scratch/a/rahman89/PycharmProjects/GenUnseen/MyProjects/CausalFed/FedDCM/data/frontdoor2/client0_data.pkl\n",
      "Saving labels at /local/scratch/a/rahman89/PycharmProjects/GenUnseen/MyProjects/CausalFed/FedDCM/data/frontdoor2/client1_data.pkl\n",
      "Saving labels at /local/scratch/a/rahman89/PycharmProjects/GenUnseen/MyProjects/CausalFed/FedDCM/data/frontdoor2/client2_data.pkl\n",
      "Saving labels at /local/scratch/a/rahman89/PycharmProjects/GenUnseen/MyProjects/CausalFed/FedDCM/data/frontdoor2/client3_data.pkl\n",
      "Saving labels at /local/scratch/a/rahman89/PycharmProjects/GenUnseen/MyProjects/CausalFed/FedDCM/data/frontdoor2/client4_data.pkl\n"
     ]
    }
   ],
   "execution_count": 73
  },
  {
   "metadata": {
    "ExecuteTime": {
     "end_time": "2025-04-12T18:05:53.106536Z",
     "start_time": "2025-04-12T18:05:53.098367Z"
    }
   },
   "cell_type": "code",
   "source": "data_chunks[4]",
   "id": "156b70aab241dac",
   "outputs": [
    {
     "data": {
      "text/plain": [
       "      Z  X  Y\n",
       "4000  0  1  0\n",
       "4001  0  0  0\n",
       "4002  1  1  0\n",
       "4003  1  1  0\n",
       "4004  0  1  0\n",
       "...  .. .. ..\n",
       "4995  1  1  0\n",
       "4996  0  0  0\n",
       "4997  1  0  1\n",
       "4998  0  1  0\n",
       "4999  1  1  0\n",
       "\n",
       "[1000 rows x 3 columns]"
      ],
      "text/html": [
       "<div>\n",
       "<style scoped>\n",
       "    .dataframe tbody tr th:only-of-type {\n",
       "        vertical-align: middle;\n",
       "    }\n",
       "\n",
       "    .dataframe tbody tr th {\n",
       "        vertical-align: top;\n",
       "    }\n",
       "\n",
       "    .dataframe thead th {\n",
       "        text-align: right;\n",
       "    }\n",
       "</style>\n",
       "<table border=\"1\" class=\"dataframe\">\n",
       "  <thead>\n",
       "    <tr style=\"text-align: right;\">\n",
       "      <th></th>\n",
       "      <th>Z</th>\n",
       "      <th>X</th>\n",
       "      <th>Y</th>\n",
       "    </tr>\n",
       "  </thead>\n",
       "  <tbody>\n",
       "    <tr>\n",
       "      <th>4000</th>\n",
       "      <td>0</td>\n",
       "      <td>1</td>\n",
       "      <td>0</td>\n",
       "    </tr>\n",
       "    <tr>\n",
       "      <th>4001</th>\n",
       "      <td>0</td>\n",
       "      <td>0</td>\n",
       "      <td>0</td>\n",
       "    </tr>\n",
       "    <tr>\n",
       "      <th>4002</th>\n",
       "      <td>1</td>\n",
       "      <td>1</td>\n",
       "      <td>0</td>\n",
       "    </tr>\n",
       "    <tr>\n",
       "      <th>4003</th>\n",
       "      <td>1</td>\n",
       "      <td>1</td>\n",
       "      <td>0</td>\n",
       "    </tr>\n",
       "    <tr>\n",
       "      <th>4004</th>\n",
       "      <td>0</td>\n",
       "      <td>1</td>\n",
       "      <td>0</td>\n",
       "    </tr>\n",
       "    <tr>\n",
       "      <th>...</th>\n",
       "      <td>...</td>\n",
       "      <td>...</td>\n",
       "      <td>...</td>\n",
       "    </tr>\n",
       "    <tr>\n",
       "      <th>4995</th>\n",
       "      <td>1</td>\n",
       "      <td>1</td>\n",
       "      <td>0</td>\n",
       "    </tr>\n",
       "    <tr>\n",
       "      <th>4996</th>\n",
       "      <td>0</td>\n",
       "      <td>0</td>\n",
       "      <td>0</td>\n",
       "    </tr>\n",
       "    <tr>\n",
       "      <th>4997</th>\n",
       "      <td>1</td>\n",
       "      <td>0</td>\n",
       "      <td>1</td>\n",
       "    </tr>\n",
       "    <tr>\n",
       "      <th>4998</th>\n",
       "      <td>0</td>\n",
       "      <td>1</td>\n",
       "      <td>0</td>\n",
       "    </tr>\n",
       "    <tr>\n",
       "      <th>4999</th>\n",
       "      <td>1</td>\n",
       "      <td>1</td>\n",
       "      <td>0</td>\n",
       "    </tr>\n",
       "  </tbody>\n",
       "</table>\n",
       "<p>1000 rows × 3 columns</p>\n",
       "</div>"
      ]
     },
     "execution_count": 74,
     "metadata": {},
     "output_type": "execute_result"
    }
   ],
   "execution_count": 74
  },
  {
   "metadata": {},
   "cell_type": "markdown",
   "source": "# Creating test dataset",
   "id": "ea226809d07d3193"
  },
  {
   "metadata": {
    "ExecuteTime": {
     "end_time": "2025-04-12T18:05:54.718314Z",
     "start_time": "2025-04-12T18:05:54.702463Z"
    }
   },
   "cell_type": "code",
   "source": [
    "g=gum.BNDatabaseGenerator(bn)\n",
    "num_test_samples= 1000\n",
    "N= num_test_samples\n",
    "g.drawSamples(N,{})\n",
    "test_dataset= g.to_pandas()\n",
    "del test_dataset['U']\n",
    "test_dataset"
   ],
   "id": "c87aea3b2ad4625c",
   "outputs": [
    {
     "data": {
      "text/plain": [
       "     Z  X  Y\n",
       "0    0  0  0\n",
       "1    0  1  0\n",
       "2    1  1  0\n",
       "3    1  1  0\n",
       "4    1  1  0\n",
       "..  .. .. ..\n",
       "995  1  1  1\n",
       "996  1  1  1\n",
       "997  0  0  0\n",
       "998  1  1  1\n",
       "999  0  1  0\n",
       "\n",
       "[1000 rows x 3 columns]"
      ],
      "text/html": [
       "<div>\n",
       "<style scoped>\n",
       "    .dataframe tbody tr th:only-of-type {\n",
       "        vertical-align: middle;\n",
       "    }\n",
       "\n",
       "    .dataframe tbody tr th {\n",
       "        vertical-align: top;\n",
       "    }\n",
       "\n",
       "    .dataframe thead th {\n",
       "        text-align: right;\n",
       "    }\n",
       "</style>\n",
       "<table border=\"1\" class=\"dataframe\">\n",
       "  <thead>\n",
       "    <tr style=\"text-align: right;\">\n",
       "      <th></th>\n",
       "      <th>Z</th>\n",
       "      <th>X</th>\n",
       "      <th>Y</th>\n",
       "    </tr>\n",
       "  </thead>\n",
       "  <tbody>\n",
       "    <tr>\n",
       "      <th>0</th>\n",
       "      <td>0</td>\n",
       "      <td>0</td>\n",
       "      <td>0</td>\n",
       "    </tr>\n",
       "    <tr>\n",
       "      <th>1</th>\n",
       "      <td>0</td>\n",
       "      <td>1</td>\n",
       "      <td>0</td>\n",
       "    </tr>\n",
       "    <tr>\n",
       "      <th>2</th>\n",
       "      <td>1</td>\n",
       "      <td>1</td>\n",
       "      <td>0</td>\n",
       "    </tr>\n",
       "    <tr>\n",
       "      <th>3</th>\n",
       "      <td>1</td>\n",
       "      <td>1</td>\n",
       "      <td>0</td>\n",
       "    </tr>\n",
       "    <tr>\n",
       "      <th>4</th>\n",
       "      <td>1</td>\n",
       "      <td>1</td>\n",
       "      <td>0</td>\n",
       "    </tr>\n",
       "    <tr>\n",
       "      <th>...</th>\n",
       "      <td>...</td>\n",
       "      <td>...</td>\n",
       "      <td>...</td>\n",
       "    </tr>\n",
       "    <tr>\n",
       "      <th>995</th>\n",
       "      <td>1</td>\n",
       "      <td>1</td>\n",
       "      <td>1</td>\n",
       "    </tr>\n",
       "    <tr>\n",
       "      <th>996</th>\n",
       "      <td>1</td>\n",
       "      <td>1</td>\n",
       "      <td>1</td>\n",
       "    </tr>\n",
       "    <tr>\n",
       "      <th>997</th>\n",
       "      <td>0</td>\n",
       "      <td>0</td>\n",
       "      <td>0</td>\n",
       "    </tr>\n",
       "    <tr>\n",
       "      <th>998</th>\n",
       "      <td>1</td>\n",
       "      <td>1</td>\n",
       "      <td>1</td>\n",
       "    </tr>\n",
       "    <tr>\n",
       "      <th>999</th>\n",
       "      <td>0</td>\n",
       "      <td>1</td>\n",
       "      <td>0</td>\n",
       "    </tr>\n",
       "  </tbody>\n",
       "</table>\n",
       "<p>1000 rows × 3 columns</p>\n",
       "</div>"
      ]
     },
     "execution_count": 75,
     "metadata": {},
     "output_type": "execute_result"
    }
   ],
   "execution_count": 75
  },
  {
   "metadata": {
    "ExecuteTime": {
     "end_time": "2025-04-12T18:05:55.341445Z",
     "start_time": "2025-04-12T18:05:55.335119Z"
    }
   },
   "cell_type": "code",
   "source": [
    "save_loc=  f'{save_folder}/test_data.pkl'\n",
    "\n",
    "print('Saving labels at', save_loc)\n",
    "with open(save_loc, 'wb') as f:\n",
    "    pickle.dump(test_dataset, f)\n",
    "    \n",
    "save_loc = f'{save_folder}/test_data.csv'        \n",
    "data_chunks[client_no].to_csv(save_loc, index=False)"
   ],
   "id": "92d21f144adb1110",
   "outputs": [
    {
     "name": "stdout",
     "output_type": "stream",
     "text": [
      "Saving labels at /local/scratch/a/rahman89/PycharmProjects/GenUnseen/MyProjects/CausalFed/FedDCM/data/frontdoor2/test_data.pkl\n"
     ]
    }
   ],
   "execution_count": 76
  },
  {
   "metadata": {
    "ExecuteTime": {
     "end_time": "2025-04-12T18:05:55.888373Z",
     "start_time": "2025-04-12T18:05:55.886003Z"
    }
   },
   "cell_type": "code",
   "source": "",
   "id": "88cf161db73c66e5",
   "outputs": [],
   "execution_count": null
  },
  {
   "metadata": {},
   "cell_type": "code",
   "source": "",
   "id": "f935e9b3c2a9e491",
   "outputs": [],
   "execution_count": null
  }
 ],
 "metadata": {
  "kernelspec": {
   "display_name": "Python 3",
   "language": "python",
   "name": "python3"
  },
  "language_info": {
   "codemirror_mode": {
    "name": "ipython",
    "version": 2
   },
   "file_extension": ".py",
   "mimetype": "text/x-python",
   "name": "python",
   "nbconvert_exporter": "python",
   "pygments_lexer": "ipython2",
   "version": "2.7.6"
  }
 },
 "nbformat": 4,
 "nbformat_minor": 5
}
